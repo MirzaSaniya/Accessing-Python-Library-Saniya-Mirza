{
  "nbformat": 4,
  "nbformat_minor": 0,
  "metadata": {
    "colab": {
      "provenance": [],
      "include_colab_link": true
    },
    "kernelspec": {
      "name": "python3",
      "display_name": "Python 3"
    }
  },
  "cells": [
    {
      "cell_type": "markdown",
      "metadata": {
        "id": "view-in-github",
        "colab_type": "text"
      },
      "source": [
        "<a href=\"https://colab.research.google.com/github/MirzaSaniya/Accessing-Python-Library-Saniya-Mirza/blob/main/Data_Analysis_Saniya_Mirza.ipynb\" target=\"_parent\"><img src=\"https://colab.research.google.com/assets/colab-badge.svg\" alt=\"Open In Colab\"/></a>"
      ]
    },
    {
      "cell_type": "code",
      "metadata": {
        "id": "7ubhCoVfTS1n"
      },
      "source": [
        "#Import necessary libraries\n",
        "import pandas as pd\n",
        "import numpy as np"
      ],
      "execution_count": null,
      "outputs": []
    },
    {
      "cell_type": "code",
      "metadata": {
        "id": "WAbg-YnATKTg",
        "colab": {
          "base_uri": "https://localhost:8080/",
          "height": 51
        },
        "outputId": "09c95c6d-8b38-45b3-a563-408897cf2eb0"
      },
      "source": [
        "#Write a function that will return the length of a number in the form of a string as well as the sum of the numbers, while accounting for negatives!\n",
        "a=-9876\n",
        "Length_num=len(str(a))\n",
        "\n",
        "sum=0\n",
        "print(len(str(a)))\n",
        "for item in range(Length_num):\n",
        "    c=a%10\n",
        "    sum=sum+c\n",
        "    a=a//10\n",
        "print(sum)\n"
      ],
      "execution_count": null,
      "outputs": [
        {
          "output_type": "stream",
          "text": [
            "5\n",
            "16\n"
          ],
          "name": "stdout"
        }
      ]
    },
    {
      "cell_type": "code",
      "metadata": {
        "id": "UuxahJ26VToh",
        "colab": {
          "base_uri": "https://localhost:8080/",
          "height": 68
        },
        "outputId": "b2690a97-19e1-4e0a-a96b-27911cbef34d"
      },
      "source": [
        "\n",
        "# Provided below are functions that are completely defined (add_numbers),\n",
        "# partially defined (sub_numbers) and not defined (mult_numbers)\n",
        "\n",
        "# (a) Complete sub_numbers so that it return difference of two numbers\n",
        "def add_numbers(a, b):\n",
        "    result = a + b\n",
        "    return result\n",
        "print(add_numbers(4,1))\n",
        "\n",
        "def sub_numbers(a, b):\n",
        "    result =  a - b\n",
        "    return result\n",
        "print(sub_numbers(4,1))\n",
        "\n",
        "a=5\n",
        "b=4\n",
        "a**2-(b**2)==(a+b)*(a-b)\n",
        "#5**2-(4**2)==(5+4)(5-4)\n",
        "\n",
        "# (b) Write a function called mult_numbers to multiply two numbers\n",
        "def mult_numbers(a, b):\n",
        "    result = a * b\n",
        "    return result\n",
        "print(mult_numbers(6,3))\n",
        "#print(mult_numbers(add_numbers(6,3), sub_numbers(6,3)))\n"
      ],
      "execution_count": null,
      "outputs": [
        {
          "output_type": "stream",
          "text": [
            "5\n",
            "3\n",
            "18\n"
          ],
          "name": "stdout"
        }
      ]
    },
    {
      "cell_type": "code",
      "metadata": {
        "id": "O30jfapYXukY",
        "colab": {
          "base_uri": "https://localhost:8080/",
          "height": 34
        },
        "outputId": "572d34b2-acf2-40b6-89af-42230a8e70ce"
      },
      "source": [
        "\n",
        "# Write a function that takes a name and returns\n",
        "# \"Your name is <given_name>\"\n",
        "# Example:\n",
        "# print_name(\"Josephine\") should return \"Your name is Josephine\"\n",
        "# Hint: You string formatting functionality. https://pyformat.info/\n",
        "\n",
        "def print_name(name):\n",
        "    formatted_result = \"Your name is \" + name\n",
        "    return formatted_result\n",
        "\n",
        "print_name(\"Saniya\")"
      ],
      "execution_count": null,
      "outputs": [
        {
          "output_type": "execute_result",
          "data": {
            "text/plain": [
              "'Your name is Saniya'"
            ]
          },
          "metadata": {
            "tags": []
          },
          "execution_count": 27
        }
      ]
    },
    {
      "cell_type": "code",
      "metadata": {
        "id": "VDDe23ReYHnY",
        "colab": {
          "base_uri": "https://localhost:8080/",
          "height": 102
        },
        "outputId": "1bb3e1fe-ac77-4272-b052-a27d278dc8f4"
      },
      "source": [
        "#\n",
        "# (a) Using a for loop, iterate through the list x\n",
        "# and print an item if its divisible by 2 and less than 6\n",
        "# (b) Using a for loop, iterate through the dictionary y\n",
        "# and print a single string of the form \"company, ceo\"\n",
        "# e.g. \"CEO: Apple, Name: Tim Cook\" will be the third entry\n",
        "x = [1, 2, 3, 4, 5, 6, 7, 8, 9, 10]\n",
        "y = {\n",
        "    'Satya Nadella': 'Microsoft',\n",
        "    'Jeff Bezos': 'Amazon',\n",
        "    'Tim Cook': 'Apple'\n",
        "}\n",
        "\n",
        "for item in x:\n",
        "    if item % 2 == 0 and item < 6:\n",
        "        print(item)\n",
        "\n",
        "for item, form in y.items():\n",
        "    print(\"CEO: \" + form + \", Name: \" +item)\n",
        ""
      ],
      "execution_count": null,
      "outputs": [
        {
          "output_type": "stream",
          "text": [
            "2\n",
            "4\n",
            "CEO: Microsoft, Name: Satya Nadella\n",
            "CEO: Amazon, Name: Jeff Bezos\n",
            "CEO: Apple, Name: Tim Cook\n"
          ],
          "name": "stdout"
        }
      ]
    },
    {
      "cell_type": "code",
      "metadata": {
        "id": "dbzjtJu5Ykq5",
        "colab": {
          "base_uri": "https://localhost:8080/",
          "height": 563
        },
        "outputId": "0206007d-76c4-4044-e689-8fdf3653125c"
      },
      "source": [
        "#Write a function that will iterate through a list of 100 values\n",
        "#For those values that are multiples of 5 output \"Apple\"\n",
        "#For those values that are multiples of 7 output \"Pie\"\n",
        "#For those values that are multiples of 5 and 7, output \"Yummy Apple Pie\"\n",
        "\n",
        "for item in range(100):\n",
        "    if item % 5 == 0 and item % 7 == 0:\n",
        "        print(\"Yummy Apple Pie\")\n",
        "    elif item % 7 == 0:\n",
        "        print(\"Pie\")\n",
        "    elif item % 5 == 0:\n",
        "        print(\"Apple\")\n",
        "# we get 3 output with \"Yummy Apple Pie\" at 0, 35 and 70. As the range is from a list of 0 to 100"
      ],
      "execution_count": null,
      "outputs": [
        {
          "output_type": "stream",
          "text": [
            "Yummy Apple Pie\n",
            "Apple\n",
            "Pie\n",
            "Apple\n",
            "Pie\n",
            "Apple\n",
            "Apple\n",
            "Pie\n",
            "Apple\n",
            "Pie\n",
            "Apple\n",
            "Yummy Apple Pie\n",
            "Apple\n",
            "Pie\n",
            "Apple\n",
            "Pie\n",
            "Apple\n",
            "Apple\n",
            "Pie\n",
            "Apple\n",
            "Pie\n",
            "Apple\n",
            "Yummy Apple Pie\n",
            "Apple\n",
            "Pie\n",
            "Apple\n",
            "Pie\n",
            "Apple\n",
            "Apple\n",
            "Pie\n",
            "Apple\n",
            "Pie\n"
          ],
          "name": "stdout"
        }
      ]
    }
  ]
}