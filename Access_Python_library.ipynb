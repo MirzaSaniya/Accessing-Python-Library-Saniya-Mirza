{
  "nbformat": 4,
  "nbformat_minor": 0,
  "metadata": {
    "kernelspec": {
      "display_name": "Python 3",
      "language": "python",
      "name": "python3"
    },
    "language_info": {
      "codemirror_mode": {
        "name": "ipython",
        "version": 3
      },
      "file_extension": ".py",
      "mimetype": "text/x-python",
      "name": "python",
      "nbconvert_exporter": "python",
      "pygments_lexer": "ipython3",
      "version": "3.7.0"
    },
    "colab": {
      "provenance": [],
      "include_colab_link": true
    }
  },
  "cells": [
    {
      "cell_type": "markdown",
      "metadata": {
        "id": "view-in-github",
        "colab_type": "text"
      },
      "source": [
        "<a href=\"https://colab.research.google.com/github/MirzaSaniya/Accessing-Python-Library-Saniya-Mirza/blob/main/Access_Python_library.ipynb\" target=\"_parent\"><img src=\"https://colab.research.google.com/assets/colab-badge.svg\" alt=\"Open In Colab\"/></a>"
      ]
    },
    {
      "cell_type": "code",
      "metadata": {
        "id": "2QTOvfrvSytq"
      },
      "source": [
        "#Import necessary libraries\n",
        "import pandas as pd\n",
        "import numpy as np"
      ],
      "execution_count": null,
      "outputs": []
    },
    {
      "cell_type": "code",
      "metadata": {
        "id": "gvwJmR-3Sytw",
        "outputId": "8abebd20-0d74-438f-9082-9cee73ff2dbb"
      },
      "source": [
        "# (a) Determine the shape, number of dimensions and type of\n",
        "# elements in the numpy array arr\n",
        "# (b) Determine the sum of elements in arr\n",
        "# (c) Determine the mean of elements in arr\n",
        "# (d) Create an array of the same shape as arr but filled with zeros\n",
        "# (e) Create an array of the same shape as arr but filled with ones\n",
        "# (f) Create an array of the same shape as arr but where all elements are squared values\n",
        "# (g) Create an array result of shape 3*3 resulting from multiplication of arr with transpose(arr). Hint: use np.dot\n",
        "arr = np.arange(15).reshape(3, 5)\n",
        "\n",
        "# Answer for (a)\n",
        "print('Shape of the numpy array arr is: ',arr.shape)\n",
        "print('Number of dimensions of the numpy arr is: ',arr.ndim)\n",
        "print('Type of elements in the numpy array arr is: ',arr.dtype)\n",
        "\n",
        "# Answer for (b)\n",
        "print('Sum of the numpy array arr is: ',arr.sum())\n",
        "\n",
        "# Answer for (c)\n",
        "print('Mean of the numpy array arr is: ',arr.mean())\n",
        "\n",
        "# Answer for (d)\n",
        "arr = np.zeros((3,5),dtype = np.int)\n",
        "print('Array of the shape (3, 5) with values as zeroes')\n",
        "print(arr)\n",
        "\n",
        "# Answer for (e)\n",
        "arr = np.ones((3,5), dtype = np.int)\n",
        "print('Array of the shape (3, 5) with values as ones')\n",
        "print(arr)\n",
        "\n",
        "# Answer for (f)\n",
        "arr = np.arange(15).reshape(3, 5)\n",
        "print('Original Array of shape (3, 5)')\n",
        "print(arr)\n",
        "print('Array after squared values')\n",
        "print(np.square(arr))\n",
        "\n",
        "# Answer for (g)\n",
        "arr = np.arange(1,10).reshape(3,3)\n",
        "print('Array of the shape (3, 3)')\n",
        "print(arr)\n",
        "print('Array after multipying it with its transpose')\n",
        "print(np.dot(arr, np.transpose(arr)))\n"
      ],
      "execution_count": null,
      "outputs": [
        {
          "output_type": "stream",
          "text": [
            "Shape of the numpy array arr is:  (3, 5)\n",
            "Number of dimensions of the numpy arr is:  2\n",
            "Type of elements in the numpy array arr is:  int32\n",
            "Sum of the numpy array arr is:  105\n",
            "Mean of the numpy array arr is:  7.0\n",
            "Array of the shape (3, 5) with values as zeroes\n",
            "[[0 0 0 0 0]\n",
            " [0 0 0 0 0]\n",
            " [0 0 0 0 0]]\n",
            "Array of the shape (3, 5) with values as ones\n",
            "[[1 1 1 1 1]\n",
            " [1 1 1 1 1]\n",
            " [1 1 1 1 1]]\n",
            "Original Array of shape (3, 5)\n",
            "[[ 0  1  2  3  4]\n",
            " [ 5  6  7  8  9]\n",
            " [10 11 12 13 14]]\n",
            "Array after squared values\n",
            "[[  0   1   4   9  16]\n",
            " [ 25  36  49  64  81]\n",
            " [100 121 144 169 196]]\n",
            "Array of the shape (3, 3)\n",
            "[[1 2 3]\n",
            " [4 5 6]\n",
            " [7 8 9]]\n",
            "Array after multipying it with its transpose\n",
            "[[ 14  32  50]\n",
            " [ 32  77 122]\n",
            " [ 50 122 194]]\n"
          ],
          "name": "stdout"
        }
      ]
    },
    {
      "cell_type": "code",
      "metadata": {
        "scrolled": true,
        "id": "RJgyswpdSyt1",
        "outputId": "44ef2714-9f05-4abd-f969-d88e0d04b10d"
      },
      "source": [
        "# The following piece of code creates a DataFrame\n",
        "# (a) Determine the shape of the dataframe\n",
        "# (b) Print out all the columns of the dataframe\n",
        "# (c) Print the 3rd element of the dataframe\n",
        "# (d) Find the average of 'petal_width' where species is 'virginica'\n",
        "# (e) Find the maximum of 'sepal_width' where species is 'setosa'\n",
        "# (f): What is the average value of sepal_length\n",
        "# (g): What is the maximum value of sepal_width\n",
        "# (h): What is the minimum value of petal_width\n",
        "import pandas as pd\n",
        "df = pd.read_csv('https://raw.githubusercontent.com/mwaskom/seaborn-data/master/iris.csv')\n",
        "df.head(10) #prints the first 10 rows\n",
        "\n",
        "# Answer for (a)\n",
        "print('The shape of the dataframe is:', df.shape)\n",
        "\n",
        "# Answer for (b)\n",
        "print('The column headers of the dataframe is:',df.columns.values)\n",
        "\n",
        "# Answer for (c)\n",
        "print('The third element of the dataframe is:')\n",
        "print(df.iloc[3])\n",
        "\n",
        "# Answer for (d)\n",
        "print('The average of the petal_width where species is virginica is:', df['petal_width'][df['species'] == 'virginica'].mean())\n",
        "\n",
        "# Answer for (e)\n",
        "print('The maximum of sepal_width where species is setosa is:', df['sepal_width'][df['species'] == 'setosa'].max())\n",
        "\n",
        "# Answer for (f)\n",
        "print('The average for sepal_length is:', df['sepal_length'].mean())\n",
        "\n",
        "# Answer for (g)\n",
        "print('The maximum for sepal_width is:', df['sepal_width'].max())\n",
        "\n",
        "# Answer for (h)\n",
        "print('The minimum for petal_width is:', df['petal_width'].min())\n"
      ],
      "execution_count": null,
      "outputs": [
        {
          "output_type": "stream",
          "text": [
            "The shape of the dataframe is: (150, 5)\n",
            "The column headers of the dataframe is: ['sepal_length' 'sepal_width' 'petal_length' 'petal_width' 'species']\n",
            "The third element of the dataframe is:\n",
            "sepal_length       4.6\n",
            "sepal_width        3.1\n",
            "petal_length       1.5\n",
            "petal_width        0.2\n",
            "species         setosa\n",
            "Name: 3, dtype: object\n",
            "The average of the petal_width where species is virginica is: 2.026\n",
            "The maximum of sepal_width where species is setosa is: 4.4\n",
            "The average for sepal_length is: 5.843333333333335\n",
            "The maximum for sepal_width is: 4.4\n",
            "The minimum for petal_width is: 0.1\n"
          ],
          "name": "stdout"
        }
      ]
    },
    {
      "cell_type": "code",
      "metadata": {
        "id": "nMyJR8SZSyt6"
      },
      "source": [],
      "execution_count": null,
      "outputs": []
    }
  ]
}