{
  "nbformat": 4,
  "nbformat_minor": 0,
  "metadata": {
    "celltoolbar": "Slideshow",
    "kernelspec": {
      "name": "python3",
      "display_name": "Python 3"
    },
    "colab": {
      "provenance": [],
      "include_colab_link": true
    }
  },
  "cells": [
    {
      "cell_type": "markdown",
      "metadata": {
        "id": "view-in-github",
        "colab_type": "text"
      },
      "source": [
        "<a href=\"https://colab.research.google.com/github/MirzaSaniya/Accessing-Python-Library-Saniya-Mirza/blob/main/Python_Exploratory_Data_Analysis_Saniya_Mirza.ipynb\" target=\"_parent\"><img src=\"https://colab.research.google.com/assets/colab-badge.svg\" alt=\"Open In Colab\"/></a>"
      ]
    },
    {
      "cell_type": "markdown",
      "metadata": {
        "id": "7HMjEDlXlylv"
      },
      "source": [
        "## Python Exploratory Data Analysis Saniya Mirza\n",
        " * Numpy\n",
        "    * Numpy is a python library for numeric processing\n",
        "    * Efficient way to deal with arrays and matrices\n",
        "    * NDArray allows operation on entire arrays, matrices\n",
        " * Pandas\n",
        "    * Provides classes to read, manipulate and analyze tabular data\n",
        "    * Important structures\n",
        "      * Series\n",
        "      * DataFrame\n",
        " * Tabular data\n",
        "    * Tabular or relational data is organized into rows and columns\n",
        "    * Rows contain individual elements\n",
        "    * Columns contain properties of each element\n",
        " * Data extraction\n",
        "    * Local file\n",
        "    * CSV\n",
        "    * Excel\n",
        "    * Databases\n",
        "    * Web scraping\n"
      ]
    },
    {
      "cell_type": "markdown",
      "metadata": {
        "id": "dp-phPN2lylw"
      },
      "source": [
        "### NDArray\n",
        "* ndarray (n-dimensional) is the primary data structure in NumPy\n",
        "* elements are all of the same type\n",
        "* supports multiple numeric types\n",
        "  * np.float32\n",
        "* Unlike python lists, numpy arrays have attributes\n",
        "  * ndim - number of dimensions\n",
        "  * shape - shape of the array\n",
        "  * size - total elements\n",
        "  * dtype - data type of the elements\n",
        "* supports operators\n",
        "* allows fast indexing, slicing and reshaping"
      ]
    },
    {
      "cell_type": "code",
      "metadata": {
        "id": "WHskVrYWwfMZ",
        "outputId": "6d03b1d3-4d84-4c4a-9ed4-ab7b0b97da08",
        "colab": {
          "base_uri": "https://localhost:8080/",
          "height": 34
        }
      },
      "source": [
        "import numpy as np\n",
        "x = [1, 2, 3]\n",
        "npx = np.array(x) # First convert x into numeric array\n",
        "dx  = 2 * npx  # Note lack of list comprehension\n",
        "print(dx)"
      ],
      "execution_count": null,
      "outputs": [
        {
          "output_type": "stream",
          "text": [
            "[2 4 6]\n"
          ],
          "name": "stdout"
        }
      ]
    },
    {
      "cell_type": "markdown",
      "metadata": {
        "id": "jsu3BTjNlyly"
      },
      "source": [
        "### Pandas\n",
        "* Pandas is built around two collection objects\n",
        "  * DataFrame\n",
        "    * Tabular data structure\n",
        "    * Consists of\n",
        "       * columns (each of which is a series)\n",
        "       * index: name(s) attached to rows\n",
        "       * Can be accessed as collection of rows and/or columns\n",
        "  * Series  \n",
        "    * Similar to a Numpy array\n",
        "    * Consists of a name, values and *index*\n",
        "      * Numpy arrays do not have an index\n",
        "    * The values and indices are themselves Numpy arrays"
      ]
    },
    {
      "cell_type": "code",
      "metadata": {
        "id": "-bsU8jiCxUWa",
        "outputId": "84bc5190-331c-45ae-c0c2-2035466a8948",
        "colab": {
          "base_uri": "https://localhost:8080/",
          "height": 119
        }
      },
      "source": [
        "import pandas as pd\n",
        "data = [['AMR',75],['BOB',21],['CBR',30],['DOG',28], ['GOD', 40]]\n",
        "df = pd.DataFrame(data,columns=['Initials','Age'])\n",
        "print (df)"
      ],
      "execution_count": null,
      "outputs": [
        {
          "output_type": "stream",
          "text": [
            "  Initials  Age\n",
            "0      AMR   75\n",
            "1      BOB   21\n",
            "2      CBR   30\n",
            "3      DOG   28\n",
            "4      GOD   40\n"
          ],
          "name": "stdout"
        }
      ]
    },
    {
      "cell_type": "code",
      "metadata": {
        "id": "perXOKxo-JV9",
        "outputId": "d8c03d60-10b1-4731-ba5b-e6d08e9a450f",
        "colab": {
          "base_uri": "https://localhost:8080/",
          "height": 68
        }
      },
      "source": [
        "df.dtypes"
      ],
      "execution_count": null,
      "outputs": [
        {
          "output_type": "execute_result",
          "data": {
            "text/plain": [
              "Initials    object\n",
              "Age          int64\n",
              "dtype: object"
            ]
          },
          "metadata": {
            "tags": []
          },
          "execution_count": 56
        }
      ]
    },
    {
      "cell_type": "code",
      "metadata": {
        "id": "D8ZrHEEc-HBR",
        "outputId": "edac0eab-fa50-4283-ed67-0fcffdd7d61e",
        "colab": {
          "base_uri": "https://localhost:8080/",
          "height": 34
        }
      },
      "source": [
        "type(df.index)"
      ],
      "execution_count": null,
      "outputs": [
        {
          "output_type": "execute_result",
          "data": {
            "text/plain": [
              "pandas.core.indexes.range.RangeIndex"
            ]
          },
          "metadata": {
            "tags": []
          },
          "execution_count": 53
        }
      ]
    },
    {
      "cell_type": "code",
      "metadata": {
        "id": "nr2O6w7VnxI-"
      },
      "source": [
        "#Begin Week 3"
      ],
      "execution_count": null,
      "outputs": []
    },
    {
      "cell_type": "markdown",
      "metadata": {
        "id": "uJ0tPy-6lylq"
      },
      "source": [
        "## Week 3\n",
        "\n",
        "* Joining and unioning data frames\n",
        "    * Inner and outer (left, right) Joins\n",
        "    * Unions (\"vertical\" joins)\n",
        "\n",
        "* Data Aggregation\n",
        "    * Aggregation\n",
        "    * Summary statistics\n",
        "    * Group statistics\n",
        "    * Grouping and aggregation\n"
      ]
    },
    {
      "cell_type": "markdown",
      "metadata": {
        "id": "VfWf7AChlyl1"
      },
      "source": [
        "### Merging dataframes\n",
        "* Ways to add data\n",
        "  * Adding columns\n",
        "      * requires numbers of rows to match\n",
        "  ```python\n",
        "      df['new_column'] = 2 * df['old_column']\n",
        "  ```\n",
        "  * Adding rows\n",
        "      * requires number of columns to match     \n",
        "  ```python\n",
        "     df = pd.concat([df1, df2], axis=0)\n",
        "  ```\n",
        "  * Merging is another way to add data to existing data frame\n",
        "      * requires one or more columns to exist in both data frames\n",
        "      * Similar to SQL join operations"
      ]
    },
    {
      "cell_type": "code",
      "metadata": {
        "id": "kaYxeilGlyl2",
        "outputId": "befc8800-62ac-44fd-f36b-d119fcd6dc8a",
        "colab": {
          "base_uri": "https://localhost:8080/",
          "height": 173
        }
      },
      "source": [
        "# Consider example of a dataframe containing names and profession\n",
        "# We would like to join this with another data frame consisting of\n",
        "# names and ages\n",
        "import pandas as pd\n",
        "profession_df = pd.DataFrame([\n",
        "    {'name': 'Fidel Rodriguez', 'profession': 'Comedian'},\n",
        "    {'name': 'Tom Brady', 'profession': 'Athlete'},\n",
        "    {'name': 'Bill Nye', 'profession': 'TV personality'},\n",
        "    {'name': 'Bill Gates', 'profession': 'Philanthropist'}\n",
        "])\n",
        "profession_df"
      ],
      "execution_count": null,
      "outputs": [
        {
          "output_type": "execute_result",
          "data": {
            "text/html": [
              "<div>\n",
              "<style scoped>\n",
              "    .dataframe tbody tr th:only-of-type {\n",
              "        vertical-align: middle;\n",
              "    }\n",
              "\n",
              "    .dataframe tbody tr th {\n",
              "        vertical-align: top;\n",
              "    }\n",
              "\n",
              "    .dataframe thead th {\n",
              "        text-align: right;\n",
              "    }\n",
              "</style>\n",
              "<table border=\"1\" class=\"dataframe\">\n",
              "  <thead>\n",
              "    <tr style=\"text-align: right;\">\n",
              "      <th></th>\n",
              "      <th>name</th>\n",
              "      <th>profession</th>\n",
              "    </tr>\n",
              "  </thead>\n",
              "  <tbody>\n",
              "    <tr>\n",
              "      <th>0</th>\n",
              "      <td>Fidel Rodriguez</td>\n",
              "      <td>Comedian</td>\n",
              "    </tr>\n",
              "    <tr>\n",
              "      <th>1</th>\n",
              "      <td>Tom Brady</td>\n",
              "      <td>Athlete</td>\n",
              "    </tr>\n",
              "    <tr>\n",
              "      <th>2</th>\n",
              "      <td>Bill Nye</td>\n",
              "      <td>TV personality</td>\n",
              "    </tr>\n",
              "    <tr>\n",
              "      <th>3</th>\n",
              "      <td>Bill Gates</td>\n",
              "      <td>Philanthropist</td>\n",
              "    </tr>\n",
              "  </tbody>\n",
              "</table>\n",
              "</div>"
            ],
            "text/plain": [
              "              name      profession\n",
              "0  Fidel Rodriguez        Comedian\n",
              "1        Tom Brady         Athlete\n",
              "2         Bill Nye  TV personality\n",
              "3       Bill Gates  Philanthropist"
            ]
          },
          "metadata": {
            "tags": []
          },
          "execution_count": 29
        }
      ]
    },
    {
      "cell_type": "code",
      "metadata": {
        "id": "mbqt1UHKlyl9",
        "outputId": "ad16d9c5-f1b5-4a5d-b20f-79eb83ef77a7",
        "colab": {
          "base_uri": "https://localhost:8080/",
          "height": 142
        }
      },
      "source": [
        "# data frame containing names and ages\n",
        "age_df = pd.DataFrame([\n",
        "    {'name': 'Tom Brady', 'age': 40},\n",
        "    {'name': 'Bill Nye', 'age': 62},\n",
        "    {'name': 'Thomas Obama', 'age': 56}\n",
        "])\n",
        "age_df"
      ],
      "execution_count": null,
      "outputs": [
        {
          "output_type": "execute_result",
          "data": {
            "text/html": [
              "<div>\n",
              "<style scoped>\n",
              "    .dataframe tbody tr th:only-of-type {\n",
              "        vertical-align: middle;\n",
              "    }\n",
              "\n",
              "    .dataframe tbody tr th {\n",
              "        vertical-align: top;\n",
              "    }\n",
              "\n",
              "    .dataframe thead th {\n",
              "        text-align: right;\n",
              "    }\n",
              "</style>\n",
              "<table border=\"1\" class=\"dataframe\">\n",
              "  <thead>\n",
              "    <tr style=\"text-align: right;\">\n",
              "      <th></th>\n",
              "      <th>name</th>\n",
              "      <th>age</th>\n",
              "    </tr>\n",
              "  </thead>\n",
              "  <tbody>\n",
              "    <tr>\n",
              "      <th>0</th>\n",
              "      <td>Tom Brady</td>\n",
              "      <td>40</td>\n",
              "    </tr>\n",
              "    <tr>\n",
              "      <th>1</th>\n",
              "      <td>Bill Nye</td>\n",
              "      <td>62</td>\n",
              "    </tr>\n",
              "    <tr>\n",
              "      <th>2</th>\n",
              "      <td>Thomas Obama</td>\n",
              "      <td>56</td>\n",
              "    </tr>\n",
              "  </tbody>\n",
              "</table>\n",
              "</div>"
            ],
            "text/plain": [
              "           name  age\n",
              "0     Tom Brady   40\n",
              "1      Bill Nye   62\n",
              "2  Thomas Obama   56"
            ]
          },
          "metadata": {
            "tags": []
          },
          "execution_count": 30
        }
      ]
    },
    {
      "cell_type": "code",
      "metadata": {
        "id": "wEJw-cKqlymC",
        "outputId": "60f33f3c-66bb-4839-f1d4-1129602c2f49",
        "colab": {
          "base_uri": "https://localhost:8080/",
          "height": 111
        }
      },
      "source": [
        "# We can merge the two dataframes based on a common column 'name'\n",
        "profession_df.merge(age_df, on=['name'])"
      ],
      "execution_count": null,
      "outputs": [
        {
          "output_type": "execute_result",
          "data": {
            "text/html": [
              "<div>\n",
              "<style scoped>\n",
              "    .dataframe tbody tr th:only-of-type {\n",
              "        vertical-align: middle;\n",
              "    }\n",
              "\n",
              "    .dataframe tbody tr th {\n",
              "        vertical-align: top;\n",
              "    }\n",
              "\n",
              "    .dataframe thead th {\n",
              "        text-align: right;\n",
              "    }\n",
              "</style>\n",
              "<table border=\"1\" class=\"dataframe\">\n",
              "  <thead>\n",
              "    <tr style=\"text-align: right;\">\n",
              "      <th></th>\n",
              "      <th>name</th>\n",
              "      <th>profession</th>\n",
              "      <th>age</th>\n",
              "    </tr>\n",
              "  </thead>\n",
              "  <tbody>\n",
              "    <tr>\n",
              "      <th>0</th>\n",
              "      <td>Tom Brady</td>\n",
              "      <td>Athlete</td>\n",
              "      <td>40</td>\n",
              "    </tr>\n",
              "    <tr>\n",
              "      <th>1</th>\n",
              "      <td>Bill Nye</td>\n",
              "      <td>TV personality</td>\n",
              "      <td>62</td>\n",
              "    </tr>\n",
              "  </tbody>\n",
              "</table>\n",
              "</div>"
            ],
            "text/plain": [
              "        name      profession  age\n",
              "0  Tom Brady         Athlete   40\n",
              "1   Bill Nye  TV personality   62"
            ]
          },
          "metadata": {
            "tags": []
          },
          "execution_count": 31
        }
      ]
    },
    {
      "cell_type": "markdown",
      "metadata": {
        "id": "tDhACn0AlymH"
      },
      "source": [
        "### Types of joins\n",
        "* By default, merge() function assumes that join is 'inner'\n",
        "* Inner join\n",
        "  * The output contains rows present in both dataframes\n",
        "* Left join\n",
        "  * Output contains all rows from the **left** data frame\n",
        "* Right join\n",
        "  * Output contains all rows from the **right** data frame\n",
        "* Outer join\n",
        "  * Output contains all rows from **both** the data frames."
      ]
    },
    {
      "cell_type": "code",
      "metadata": {
        "id": "D9JJLM54lymI",
        "outputId": "c029aa36-f320-43a5-9db1-d3541c24b7f8",
        "colab": {
          "base_uri": "https://localhost:8080/",
          "height": 111
        }
      },
      "source": [
        "# Recall\n",
        "# Bill Gates is present only in the 'left'(profession_df) dataframe\n",
        "# Barack Obama is present only in the 'right'(age_df) dataframe\n",
        "profession_df.merge(age_df, left_on='name', right_on='name')"
      ],
      "execution_count": null,
      "outputs": [
        {
          "output_type": "execute_result",
          "data": {
            "text/html": [
              "<div>\n",
              "<style scoped>\n",
              "    .dataframe tbody tr th:only-of-type {\n",
              "        vertical-align: middle;\n",
              "    }\n",
              "\n",
              "    .dataframe tbody tr th {\n",
              "        vertical-align: top;\n",
              "    }\n",
              "\n",
              "    .dataframe thead th {\n",
              "        text-align: right;\n",
              "    }\n",
              "</style>\n",
              "<table border=\"1\" class=\"dataframe\">\n",
              "  <thead>\n",
              "    <tr style=\"text-align: right;\">\n",
              "      <th></th>\n",
              "      <th>name</th>\n",
              "      <th>profession</th>\n",
              "      <th>age</th>\n",
              "    </tr>\n",
              "  </thead>\n",
              "  <tbody>\n",
              "    <tr>\n",
              "      <th>0</th>\n",
              "      <td>Tom Brady</td>\n",
              "      <td>Athlete</td>\n",
              "      <td>40</td>\n",
              "    </tr>\n",
              "    <tr>\n",
              "      <th>1</th>\n",
              "      <td>Bill Nye</td>\n",
              "      <td>TV personality</td>\n",
              "      <td>62</td>\n",
              "    </tr>\n",
              "  </tbody>\n",
              "</table>\n",
              "</div>"
            ],
            "text/plain": [
              "        name      profession  age\n",
              "0  Tom Brady         Athlete   40\n",
              "1   Bill Nye  TV personality   62"
            ]
          },
          "metadata": {
            "tags": []
          },
          "execution_count": 32
        }
      ]
    },
    {
      "cell_type": "code",
      "metadata": {
        "id": "tmfA8zxslymK",
        "outputId": "9231dfe9-9eb0-4f1c-af1c-70944282af8f",
        "colab": {
          "base_uri": "https://localhost:8080/",
          "height": 173
        }
      },
      "source": [
        "# Recall\n",
        "# Bill Gates is present only in the 'left'(profession_df) dataframe\n",
        "# Barack Obama is present only in the 'right'(age_df) dataframe\n",
        "profession_df.merge(age_df, how='left', on ='name')"
      ],
      "execution_count": null,
      "outputs": [
        {
          "output_type": "execute_result",
          "data": {
            "text/html": [
              "<div>\n",
              "<style scoped>\n",
              "    .dataframe tbody tr th:only-of-type {\n",
              "        vertical-align: middle;\n",
              "    }\n",
              "\n",
              "    .dataframe tbody tr th {\n",
              "        vertical-align: top;\n",
              "    }\n",
              "\n",
              "    .dataframe thead th {\n",
              "        text-align: right;\n",
              "    }\n",
              "</style>\n",
              "<table border=\"1\" class=\"dataframe\">\n",
              "  <thead>\n",
              "    <tr style=\"text-align: right;\">\n",
              "      <th></th>\n",
              "      <th>name</th>\n",
              "      <th>profession</th>\n",
              "      <th>age</th>\n",
              "    </tr>\n",
              "  </thead>\n",
              "  <tbody>\n",
              "    <tr>\n",
              "      <th>0</th>\n",
              "      <td>Fidel Rodriguez</td>\n",
              "      <td>Comedian</td>\n",
              "      <td>NaN</td>\n",
              "    </tr>\n",
              "    <tr>\n",
              "      <th>1</th>\n",
              "      <td>Tom Brady</td>\n",
              "      <td>Athlete</td>\n",
              "      <td>40.0</td>\n",
              "    </tr>\n",
              "    <tr>\n",
              "      <th>2</th>\n",
              "      <td>Bill Nye</td>\n",
              "      <td>TV personality</td>\n",
              "      <td>62.0</td>\n",
              "    </tr>\n",
              "    <tr>\n",
              "      <th>3</th>\n",
              "      <td>Bill Gates</td>\n",
              "      <td>Philanthropist</td>\n",
              "      <td>NaN</td>\n",
              "    </tr>\n",
              "  </tbody>\n",
              "</table>\n",
              "</div>"
            ],
            "text/plain": [
              "              name      profession   age\n",
              "0  Fidel Rodriguez        Comedian   NaN\n",
              "1        Tom Brady         Athlete  40.0\n",
              "2         Bill Nye  TV personality  62.0\n",
              "3       Bill Gates  Philanthropist   NaN"
            ]
          },
          "metadata": {
            "tags": []
          },
          "execution_count": 36
        }
      ]
    },
    {
      "cell_type": "code",
      "metadata": {
        "id": "X97jomo0lymN",
        "outputId": "d349579f-e45b-4df8-c75c-a3c53821090b",
        "colab": {
          "base_uri": "https://localhost:8080/",
          "height": 142
        }
      },
      "source": [
        "# Recall\n",
        "# Bill Gates is present only in the 'left'(profession_df) dataframe\n",
        "# Barack Obama is present only in the 'right'(age_df) dataframe\n",
        "profession_df.merge(age_df, how='right', on ='name')"
      ],
      "execution_count": null,
      "outputs": [
        {
          "output_type": "execute_result",
          "data": {
            "text/html": [
              "<div>\n",
              "<style scoped>\n",
              "    .dataframe tbody tr th:only-of-type {\n",
              "        vertical-align: middle;\n",
              "    }\n",
              "\n",
              "    .dataframe tbody tr th {\n",
              "        vertical-align: top;\n",
              "    }\n",
              "\n",
              "    .dataframe thead th {\n",
              "        text-align: right;\n",
              "    }\n",
              "</style>\n",
              "<table border=\"1\" class=\"dataframe\">\n",
              "  <thead>\n",
              "    <tr style=\"text-align: right;\">\n",
              "      <th></th>\n",
              "      <th>name</th>\n",
              "      <th>profession</th>\n",
              "      <th>age</th>\n",
              "    </tr>\n",
              "  </thead>\n",
              "  <tbody>\n",
              "    <tr>\n",
              "      <th>0</th>\n",
              "      <td>Tom Brady</td>\n",
              "      <td>Athlete</td>\n",
              "      <td>40</td>\n",
              "    </tr>\n",
              "    <tr>\n",
              "      <th>1</th>\n",
              "      <td>Bill Nye</td>\n",
              "      <td>TV personality</td>\n",
              "      <td>62</td>\n",
              "    </tr>\n",
              "    <tr>\n",
              "      <th>2</th>\n",
              "      <td>Thomas Obama</td>\n",
              "      <td>NaN</td>\n",
              "      <td>56</td>\n",
              "    </tr>\n",
              "  </tbody>\n",
              "</table>\n",
              "</div>"
            ],
            "text/plain": [
              "           name      profession  age\n",
              "0     Tom Brady         Athlete   40\n",
              "1      Bill Nye  TV personality   62\n",
              "2  Thomas Obama             NaN   56"
            ]
          },
          "metadata": {
            "tags": []
          },
          "execution_count": 37
        }
      ]
    },
    {
      "cell_type": "code",
      "metadata": {
        "id": "W7GQq43vlymQ",
        "outputId": "c13dca38-1355-41f9-b568-e6212435c056",
        "colab": {
          "base_uri": "https://localhost:8080/",
          "height": 204
        }
      },
      "source": [
        "# Recall\n",
        "# Bill Gates is present only in the 'left'(profession_df) dataframe\n",
        "# Barack Obama is present only in the 'right'(age_df) dataframe\n",
        "profession_df.merge(age_df, how='outer', on ='name')"
      ],
      "execution_count": null,
      "outputs": [
        {
          "output_type": "execute_result",
          "data": {
            "text/html": [
              "<div>\n",
              "<style scoped>\n",
              "    .dataframe tbody tr th:only-of-type {\n",
              "        vertical-align: middle;\n",
              "    }\n",
              "\n",
              "    .dataframe tbody tr th {\n",
              "        vertical-align: top;\n",
              "    }\n",
              "\n",
              "    .dataframe thead th {\n",
              "        text-align: right;\n",
              "    }\n",
              "</style>\n",
              "<table border=\"1\" class=\"dataframe\">\n",
              "  <thead>\n",
              "    <tr style=\"text-align: right;\">\n",
              "      <th></th>\n",
              "      <th>name</th>\n",
              "      <th>profession</th>\n",
              "      <th>age</th>\n",
              "    </tr>\n",
              "  </thead>\n",
              "  <tbody>\n",
              "    <tr>\n",
              "      <th>0</th>\n",
              "      <td>Fidel Rodriguez</td>\n",
              "      <td>Comedian</td>\n",
              "      <td>NaN</td>\n",
              "    </tr>\n",
              "    <tr>\n",
              "      <th>1</th>\n",
              "      <td>Tom Brady</td>\n",
              "      <td>Athlete</td>\n",
              "      <td>40.0</td>\n",
              "    </tr>\n",
              "    <tr>\n",
              "      <th>2</th>\n",
              "      <td>Bill Nye</td>\n",
              "      <td>TV personality</td>\n",
              "      <td>62.0</td>\n",
              "    </tr>\n",
              "    <tr>\n",
              "      <th>3</th>\n",
              "      <td>Bill Gates</td>\n",
              "      <td>Philanthropist</td>\n",
              "      <td>NaN</td>\n",
              "    </tr>\n",
              "    <tr>\n",
              "      <th>4</th>\n",
              "      <td>Thomas Obama</td>\n",
              "      <td>NaN</td>\n",
              "      <td>56.0</td>\n",
              "    </tr>\n",
              "  </tbody>\n",
              "</table>\n",
              "</div>"
            ],
            "text/plain": [
              "              name      profession   age\n",
              "0  Fidel Rodriguez        Comedian   NaN\n",
              "1        Tom Brady         Athlete  40.0\n",
              "2         Bill Nye  TV personality  62.0\n",
              "3       Bill Gates  Philanthropist   NaN\n",
              "4     Thomas Obama             NaN  56.0"
            ]
          },
          "metadata": {
            "tags": []
          },
          "execution_count": 35
        }
      ]
    },
    {
      "cell_type": "markdown",
      "metadata": {
        "id": "OBl49B5SlymS"
      },
      "source": [
        "#### Merging multiple columns\n",
        "* Dataframes can be merged based on multiple columns\n",
        "* on,left_on,right_on also take a list of columns as arguments"
      ]
    },
    {
      "cell_type": "code",
      "metadata": {
        "id": "w8v2fjutlymU",
        "outputId": "c6196e83-49ff-4269-a2fd-963b2f3a022f",
        "colab": {
          "base_uri": "https://localhost:8080/",
          "height": 173
        }
      },
      "source": [
        "# In this example we will merge profession dataframe with age dataframe\n",
        "# based on two columns ['first_name', 'last_name']\n",
        "profession_df = pd.DataFrame([\n",
        "    {'first_name': 'Sharat', 'last_name': 'Chikkerur', 'profession': 'Data scientist'},\n",
        "    {'first_name': 'Tom', 'last_name': 'Brady', 'profession': 'Athlete'},\n",
        "    {'first_name': 'Bill', 'last_name': 'Nye', 'profession': 'TV personality'},\n",
        "    {'first_name': 'Bill', 'last_name': 'Gates', 'profession': 'Philanthropist'}\n",
        "])\n",
        "profession_df"
      ],
      "execution_count": null,
      "outputs": [
        {
          "output_type": "execute_result",
          "data": {
            "text/html": [
              "<div>\n",
              "<style scoped>\n",
              "    .dataframe tbody tr th:only-of-type {\n",
              "        vertical-align: middle;\n",
              "    }\n",
              "\n",
              "    .dataframe tbody tr th {\n",
              "        vertical-align: top;\n",
              "    }\n",
              "\n",
              "    .dataframe thead th {\n",
              "        text-align: right;\n",
              "    }\n",
              "</style>\n",
              "<table border=\"1\" class=\"dataframe\">\n",
              "  <thead>\n",
              "    <tr style=\"text-align: right;\">\n",
              "      <th></th>\n",
              "      <th>first_name</th>\n",
              "      <th>last_name</th>\n",
              "      <th>profession</th>\n",
              "    </tr>\n",
              "  </thead>\n",
              "  <tbody>\n",
              "    <tr>\n",
              "      <th>0</th>\n",
              "      <td>Sharat</td>\n",
              "      <td>Chikkerur</td>\n",
              "      <td>Data scientist</td>\n",
              "    </tr>\n",
              "    <tr>\n",
              "      <th>1</th>\n",
              "      <td>Tom</td>\n",
              "      <td>Brady</td>\n",
              "      <td>Athlete</td>\n",
              "    </tr>\n",
              "    <tr>\n",
              "      <th>2</th>\n",
              "      <td>Bill</td>\n",
              "      <td>Nye</td>\n",
              "      <td>TV personality</td>\n",
              "    </tr>\n",
              "    <tr>\n",
              "      <th>3</th>\n",
              "      <td>Bill</td>\n",
              "      <td>Gates</td>\n",
              "      <td>Philanthropist</td>\n",
              "    </tr>\n",
              "  </tbody>\n",
              "</table>\n",
              "</div>"
            ],
            "text/plain": [
              "  first_name  last_name      profession\n",
              "0     Sharat  Chikkerur  Data scientist\n",
              "1        Tom      Brady         Athlete\n",
              "2       Bill        Nye  TV personality\n",
              "3       Bill      Gates  Philanthropist"
            ]
          },
          "metadata": {
            "tags": []
          },
          "execution_count": 38
        }
      ]
    },
    {
      "cell_type": "code",
      "metadata": {
        "id": "tqCRkPmxlymX",
        "outputId": "7dbaa649-f5cf-4ecb-971c-1cdb755280db",
        "colab": {
          "base_uri": "https://localhost:8080/",
          "height": 173
        }
      },
      "source": [
        "age_df = pd.DataFrame([\n",
        "    {'first_name': 'Sharat', 'last_name': 'Chikkerur', 'age': 38},\n",
        "    {'first_name': 'Tom', 'last_name': 'Brady', 'age': 40},\n",
        "    {'first_name': 'Bill', 'last_name': 'Nye', 'age': 62},\n",
        "    {'first_name': 'Barack', 'last_name': 'Obama', 'age': 56}\n",
        "])\n",
        "age_df"
      ],
      "execution_count": null,
      "outputs": [
        {
          "output_type": "execute_result",
          "data": {
            "text/html": [
              "<div>\n",
              "<style scoped>\n",
              "    .dataframe tbody tr th:only-of-type {\n",
              "        vertical-align: middle;\n",
              "    }\n",
              "\n",
              "    .dataframe tbody tr th {\n",
              "        vertical-align: top;\n",
              "    }\n",
              "\n",
              "    .dataframe thead th {\n",
              "        text-align: right;\n",
              "    }\n",
              "</style>\n",
              "<table border=\"1\" class=\"dataframe\">\n",
              "  <thead>\n",
              "    <tr style=\"text-align: right;\">\n",
              "      <th></th>\n",
              "      <th>first_name</th>\n",
              "      <th>last_name</th>\n",
              "      <th>age</th>\n",
              "    </tr>\n",
              "  </thead>\n",
              "  <tbody>\n",
              "    <tr>\n",
              "      <th>0</th>\n",
              "      <td>Sharat</td>\n",
              "      <td>Chikkerur</td>\n",
              "      <td>38</td>\n",
              "    </tr>\n",
              "    <tr>\n",
              "      <th>1</th>\n",
              "      <td>Tom</td>\n",
              "      <td>Brady</td>\n",
              "      <td>40</td>\n",
              "    </tr>\n",
              "    <tr>\n",
              "      <th>2</th>\n",
              "      <td>Bill</td>\n",
              "      <td>Nye</td>\n",
              "      <td>62</td>\n",
              "    </tr>\n",
              "    <tr>\n",
              "      <th>3</th>\n",
              "      <td>Barack</td>\n",
              "      <td>Obama</td>\n",
              "      <td>56</td>\n",
              "    </tr>\n",
              "  </tbody>\n",
              "</table>\n",
              "</div>"
            ],
            "text/plain": [
              "  first_name  last_name  age\n",
              "0     Sharat  Chikkerur   38\n",
              "1        Tom      Brady   40\n",
              "2       Bill        Nye   62\n",
              "3     Barack      Obama   56"
            ]
          },
          "metadata": {
            "tags": []
          },
          "execution_count": 39
        }
      ]
    },
    {
      "cell_type": "code",
      "metadata": {
        "id": "vH7qRNr_lyma",
        "outputId": "2281ffb6-c8aa-487b-8e3e-1a4e8e17f209",
        "colab": {
          "base_uri": "https://localhost:8080/",
          "height": 204
        }
      },
      "source": [
        "# Joins can be done using multiple columns\n",
        "profession_df.merge(age_df, how='outer', on =['first_name', 'last_name'])"
      ],
      "execution_count": null,
      "outputs": [
        {
          "output_type": "execute_result",
          "data": {
            "text/html": [
              "<div>\n",
              "<style scoped>\n",
              "    .dataframe tbody tr th:only-of-type {\n",
              "        vertical-align: middle;\n",
              "    }\n",
              "\n",
              "    .dataframe tbody tr th {\n",
              "        vertical-align: top;\n",
              "    }\n",
              "\n",
              "    .dataframe thead th {\n",
              "        text-align: right;\n",
              "    }\n",
              "</style>\n",
              "<table border=\"1\" class=\"dataframe\">\n",
              "  <thead>\n",
              "    <tr style=\"text-align: right;\">\n",
              "      <th></th>\n",
              "      <th>first_name</th>\n",
              "      <th>last_name</th>\n",
              "      <th>profession</th>\n",
              "      <th>age</th>\n",
              "    </tr>\n",
              "  </thead>\n",
              "  <tbody>\n",
              "    <tr>\n",
              "      <th>0</th>\n",
              "      <td>Sharat</td>\n",
              "      <td>Chikkerur</td>\n",
              "      <td>Data scientist</td>\n",
              "      <td>38.0</td>\n",
              "    </tr>\n",
              "    <tr>\n",
              "      <th>1</th>\n",
              "      <td>Tom</td>\n",
              "      <td>Brady</td>\n",
              "      <td>Athlete</td>\n",
              "      <td>40.0</td>\n",
              "    </tr>\n",
              "    <tr>\n",
              "      <th>2</th>\n",
              "      <td>Bill</td>\n",
              "      <td>Nye</td>\n",
              "      <td>TV personality</td>\n",
              "      <td>62.0</td>\n",
              "    </tr>\n",
              "    <tr>\n",
              "      <th>3</th>\n",
              "      <td>Bill</td>\n",
              "      <td>Gates</td>\n",
              "      <td>Philanthropist</td>\n",
              "      <td>NaN</td>\n",
              "    </tr>\n",
              "    <tr>\n",
              "      <th>4</th>\n",
              "      <td>Barack</td>\n",
              "      <td>Obama</td>\n",
              "      <td>NaN</td>\n",
              "      <td>56.0</td>\n",
              "    </tr>\n",
              "  </tbody>\n",
              "</table>\n",
              "</div>"
            ],
            "text/plain": [
              "  first_name  last_name      profession   age\n",
              "0     Sharat  Chikkerur  Data scientist  38.0\n",
              "1        Tom      Brady         Athlete  40.0\n",
              "2       Bill        Nye  TV personality  62.0\n",
              "3       Bill      Gates  Philanthropist   NaN\n",
              "4     Barack      Obama             NaN  56.0"
            ]
          },
          "metadata": {
            "tags": []
          },
          "execution_count": 40
        }
      ]
    },
    {
      "cell_type": "code",
      "metadata": {
        "id": "g93AoIu0kJuo"
      },
      "source": [
        "import pandas as pd"
      ],
      "execution_count": null,
      "outputs": []
    },
    {
      "cell_type": "markdown",
      "metadata": {
        "id": "nh8vNryujAw8"
      },
      "source": [
        "### Aggregating data\n",
        "\n",
        "#### Global aggregation\n",
        "* Both Series and DataFrames support global aggregation functions\n",
        "  * min()\n",
        "  * max()\n",
        "  * std()\n",
        "  * sum()\n",
        "  * mean() etc.\n",
        "* Non numeric columsn may be omitted in the global summary"
      ]
    },
    {
      "cell_type": "markdown",
      "metadata": {
        "id": "wGERLX7CjAxB"
      },
      "source": [
        "### Global aggregation example\n",
        "\n",
        "```python\n",
        "df = pd.read_csv('https://raw.githubusercontent.com/mwaskom/seaborn-data/master/iris.csv')\n",
        "# display sum\n",
        "df.sum()\n",
        "\n",
        "# display mean\n",
        "df.mean()\n",
        "\n",
        "# display min and max\n",
        "df.min()\n",
        "df.max()\n",
        "\n",
        "# display std\n",
        "df.std()\n",
        "```"
      ]
    },
    {
      "cell_type": "code",
      "metadata": {
        "id": "34xDitcqjAxF"
      },
      "source": [
        "df = pd.read_csv('https://raw.githubusercontent.com/mwaskom/seaborn-data/master/iris.csv')"
      ],
      "execution_count": null,
      "outputs": []
    },
    {
      "cell_type": "code",
      "metadata": {
        "id": "78-U8oIbk2so",
        "outputId": "659b3b3e-7c0c-4b9a-f9f2-aaacf713761f",
        "colab": {
          "base_uri": "https://localhost:8080/",
          "height": 204
        }
      },
      "source": [
        "print(df.info())"
      ],
      "execution_count": null,
      "outputs": [
        {
          "output_type": "stream",
          "text": [
            "<class 'pandas.core.frame.DataFrame'>\n",
            "RangeIndex: 150 entries, 0 to 149\n",
            "Data columns (total 5 columns):\n",
            "sepal_length    150 non-null float64\n",
            "sepal_width     150 non-null float64\n",
            "petal_length    150 non-null float64\n",
            "petal_width     150 non-null float64\n",
            "species         150 non-null object\n",
            "dtypes: float64(4), object(1)\n",
            "memory usage: 6.0+ KB\n",
            "None\n"
          ],
          "name": "stdout"
        }
      ]
    },
    {
      "cell_type": "code",
      "metadata": {
        "id": "HdxyeYHVk2jr",
        "outputId": "bbf86e46-dab3-48a5-b4ff-e53dbbc9e83c",
        "colab": {
          "base_uri": "https://localhost:8080/",
          "height": 119
        }
      },
      "source": [
        "df.sum()"
      ],
      "execution_count": null,
      "outputs": [
        {
          "output_type": "execute_result",
          "data": {
            "text/plain": [
              "sepal_length                                                876.5\n",
              "sepal_width                                                 458.6\n",
              "petal_length                                                563.7\n",
              "petal_width                                                 179.9\n",
              "species         setosasetosasetosasetosasetosasetosasetosaseto...\n",
              "dtype: object"
            ]
          },
          "metadata": {
            "tags": []
          },
          "execution_count": 73
        }
      ]
    },
    {
      "cell_type": "code",
      "metadata": {
        "id": "RMiDkUjOjAxQ",
        "outputId": "06fe2141-1865-4a29-c302-4795727aaf04",
        "colab": {
          "base_uri": "https://localhost:8080/",
          "height": 102
        }
      },
      "source": [
        "df.mean()"
      ],
      "execution_count": null,
      "outputs": [
        {
          "output_type": "execute_result",
          "data": {
            "text/plain": [
              "sepal_length    5.843333\n",
              "sepal_width     3.057333\n",
              "petal_length    3.758000\n",
              "petal_width     1.199333\n",
              "dtype: float64"
            ]
          },
          "metadata": {
            "tags": []
          },
          "execution_count": 18
        }
      ]
    },
    {
      "cell_type": "code",
      "metadata": {
        "id": "zP53VqcwjAxY",
        "outputId": "f04007d2-b9df-4906-c411-71c59aa37b16",
        "colab": {
          "base_uri": "https://localhost:8080/",
          "height": 119
        }
      },
      "source": [
        "df.min()"
      ],
      "execution_count": null,
      "outputs": [
        {
          "output_type": "execute_result",
          "data": {
            "text/plain": [
              "sepal_length       4.3\n",
              "sepal_width          2\n",
              "petal_length         1\n",
              "petal_width        0.1\n",
              "species         setosa\n",
              "dtype: object"
            ]
          },
          "metadata": {
            "tags": []
          },
          "execution_count": 74
        }
      ]
    },
    {
      "cell_type": "code",
      "metadata": {
        "id": "ozWIEb0QjAxh",
        "outputId": "086dadc7-1869-42fb-9b30-fbc14e4c05bd",
        "colab": {
          "base_uri": "https://localhost:8080/",
          "height": 119
        }
      },
      "source": [
        "df.max()"
      ],
      "execution_count": null,
      "outputs": [
        {
          "output_type": "execute_result",
          "data": {
            "text/plain": [
              "sepal_length          7.9\n",
              "sepal_width           4.4\n",
              "petal_length          6.9\n",
              "petal_width           2.5\n",
              "species         virginica\n",
              "dtype: object"
            ]
          },
          "metadata": {
            "tags": []
          },
          "execution_count": 20
        }
      ]
    },
    {
      "cell_type": "code",
      "metadata": {
        "id": "A5d5aLGrjAxr",
        "outputId": "97e2c26a-45b6-4b49-f100-64e930b0c337",
        "colab": {
          "base_uri": "https://localhost:8080/",
          "height": 102
        }
      },
      "source": [
        "df.std()"
      ],
      "execution_count": null,
      "outputs": [
        {
          "output_type": "execute_result",
          "data": {
            "text/plain": [
              "sepal_length    0.828066\n",
              "sepal_width     0.435866\n",
              "petal_length    1.765298\n",
              "petal_width     0.762238\n",
              "dtype: float64"
            ]
          },
          "metadata": {
            "tags": []
          },
          "execution_count": 76
        }
      ]
    },
    {
      "cell_type": "markdown",
      "metadata": {
        "id": "8-sjvzMejAx7"
      },
      "source": [
        "#### Groupby\n",
        "* groupby() allows you to generate subtotals by one more columns\n",
        "    * aggregates data for each change in group-by columns\n",
        "    * For example,\n",
        "        * generate average height by age\n",
        "        * Average revenue by month of the year\n",
        "        * Average revenue by region etc."
      ]
    },
    {
      "cell_type": "code",
      "metadata": {
        "id": "SIuIatYVjAyB",
        "outputId": "d5874462-52d5-429f-a25e-00bf059c7828",
        "colab": {
          "base_uri": "https://localhost:8080/",
          "height": 34
        }
      },
      "source": [
        "df['species'].unique()"
      ],
      "execution_count": null,
      "outputs": [
        {
          "output_type": "execute_result",
          "data": {
            "text/plain": [
              "array(['setosa', 'versicolor', 'virginica'], dtype=object)"
            ]
          },
          "metadata": {
            "tags": []
          },
          "execution_count": 77
        }
      ]
    },
    {
      "cell_type": "code",
      "metadata": {
        "id": "4drvyZSUjAyP",
        "outputId": "2ad6a755-d17b-4684-c904-64d6de10c6e0",
        "colab": {
          "base_uri": "https://localhost:8080/",
          "height": 323
        }
      },
      "source": [
        "for species in df['species'].unique():\n",
        "    print(\"Species: {0}\".format(species))\n",
        "    print(df.loc[df['species']==species].mean())"
      ],
      "execution_count": null,
      "outputs": [
        {
          "output_type": "stream",
          "text": [
            "Species: setosa\n",
            "sepal_length    5.006\n",
            "sepal_width     3.428\n",
            "petal_length    1.462\n",
            "petal_width     0.246\n",
            "dtype: float64\n",
            "Species: versicolor\n",
            "sepal_length    5.936\n",
            "sepal_width     2.770\n",
            "petal_length    4.260\n",
            "petal_width     1.326\n",
            "dtype: float64\n",
            "Species: virginica\n",
            "sepal_length    6.588\n",
            "sepal_width     2.974\n",
            "petal_length    5.552\n",
            "petal_width     2.026\n",
            "dtype: float64\n"
          ],
          "name": "stdout"
        }
      ]
    },
    {
      "cell_type": "code",
      "metadata": {
        "id": "NGfA-O00jAyk",
        "outputId": "2d439dce-937a-4928-bd50-02e7bb0e1727",
        "colab": {
          "base_uri": "https://localhost:8080/",
          "height": 173
        }
      },
      "source": [
        "df.groupby('species').mean()"
      ],
      "execution_count": null,
      "outputs": [
        {
          "output_type": "execute_result",
          "data": {
            "text/html": [
              "<div>\n",
              "<style scoped>\n",
              "    .dataframe tbody tr th:only-of-type {\n",
              "        vertical-align: middle;\n",
              "    }\n",
              "\n",
              "    .dataframe tbody tr th {\n",
              "        vertical-align: top;\n",
              "    }\n",
              "\n",
              "    .dataframe thead th {\n",
              "        text-align: right;\n",
              "    }\n",
              "</style>\n",
              "<table border=\"1\" class=\"dataframe\">\n",
              "  <thead>\n",
              "    <tr style=\"text-align: right;\">\n",
              "      <th></th>\n",
              "      <th>sepal_length</th>\n",
              "      <th>sepal_width</th>\n",
              "      <th>petal_length</th>\n",
              "      <th>petal_width</th>\n",
              "    </tr>\n",
              "    <tr>\n",
              "      <th>species</th>\n",
              "      <th></th>\n",
              "      <th></th>\n",
              "      <th></th>\n",
              "      <th></th>\n",
              "    </tr>\n",
              "  </thead>\n",
              "  <tbody>\n",
              "    <tr>\n",
              "      <th>setosa</th>\n",
              "      <td>5.006</td>\n",
              "      <td>3.428</td>\n",
              "      <td>1.462</td>\n",
              "      <td>0.246</td>\n",
              "    </tr>\n",
              "    <tr>\n",
              "      <th>versicolor</th>\n",
              "      <td>5.936</td>\n",
              "      <td>2.770</td>\n",
              "      <td>4.260</td>\n",
              "      <td>1.326</td>\n",
              "    </tr>\n",
              "    <tr>\n",
              "      <th>virginica</th>\n",
              "      <td>6.588</td>\n",
              "      <td>2.974</td>\n",
              "      <td>5.552</td>\n",
              "      <td>2.026</td>\n",
              "    </tr>\n",
              "  </tbody>\n",
              "</table>\n",
              "</div>"
            ],
            "text/plain": [
              "            sepal_length  sepal_width  petal_length  petal_width\n",
              "species                                                         \n",
              "setosa             5.006        3.428         1.462        0.246\n",
              "versicolor         5.936        2.770         4.260        1.326\n",
              "virginica          6.588        2.974         5.552        2.026"
            ]
          },
          "metadata": {
            "tags": []
          },
          "execution_count": 24
        }
      ]
    },
    {
      "cell_type": "markdown",
      "metadata": {
        "id": "cx4IZuaLjAy3"
      },
      "source": [
        "### Split-apply-combine\n",
        "```python\n",
        "df.groupby('species').mean()\n",
        "```\n",
        "* Split apply combine is a common analysis task\n",
        "* In the example,\n",
        "  * We split the dataframe by value of 'species' column\n",
        "  * For each split we computed the mean\n",
        "  * Combined the means into a results data frame"
      ]
    },
    {
      "cell_type": "markdown",
      "metadata": {
        "id": "3bIcUau-jAy6"
      },
      "source": [
        "#### Generalized aggregation\n",
        "* Pandas allows generalized aggregation methods through agg() function\n",
        "* We can compute quantities other than mean(), min(), max() etc.\n",
        "* Example\n",
        "```python\n",
        "   df.groupby('species').agg(\n",
        "       {\n",
        "           'median': np.median,\n",
        "           'variance': np.var\n",
        "       }\n",
        "   )\n",
        "```"
      ]
    },
    {
      "cell_type": "code",
      "metadata": {
        "id": "Zx31jQUyjAy8",
        "outputId": "ec726041-628e-4afa-ef68-f147e847cc53",
        "colab": {
          "base_uri": "https://localhost:8080/",
          "height": 204
        }
      },
      "source": [
        "import numpy as np\n",
        "df.groupby('species').agg([np.median, np.var])"
      ],
      "execution_count": null,
      "outputs": [
        {
          "output_type": "execute_result",
          "data": {
            "text/html": [
              "<div>\n",
              "<style scoped>\n",
              "    .dataframe tbody tr th:only-of-type {\n",
              "        vertical-align: middle;\n",
              "    }\n",
              "\n",
              "    .dataframe tbody tr th {\n",
              "        vertical-align: top;\n",
              "    }\n",
              "\n",
              "    .dataframe thead tr th {\n",
              "        text-align: left;\n",
              "    }\n",
              "\n",
              "    .dataframe thead tr:last-of-type th {\n",
              "        text-align: right;\n",
              "    }\n",
              "</style>\n",
              "<table border=\"1\" class=\"dataframe\">\n",
              "  <thead>\n",
              "    <tr>\n",
              "      <th></th>\n",
              "      <th colspan=\"2\" halign=\"left\">sepal_length</th>\n",
              "      <th colspan=\"2\" halign=\"left\">sepal_width</th>\n",
              "      <th colspan=\"2\" halign=\"left\">petal_length</th>\n",
              "      <th colspan=\"2\" halign=\"left\">petal_width</th>\n",
              "    </tr>\n",
              "    <tr>\n",
              "      <th></th>\n",
              "      <th>median</th>\n",
              "      <th>var</th>\n",
              "      <th>median</th>\n",
              "      <th>var</th>\n",
              "      <th>median</th>\n",
              "      <th>var</th>\n",
              "      <th>median</th>\n",
              "      <th>var</th>\n",
              "    </tr>\n",
              "    <tr>\n",
              "      <th>species</th>\n",
              "      <th></th>\n",
              "      <th></th>\n",
              "      <th></th>\n",
              "      <th></th>\n",
              "      <th></th>\n",
              "      <th></th>\n",
              "      <th></th>\n",
              "      <th></th>\n",
              "    </tr>\n",
              "  </thead>\n",
              "  <tbody>\n",
              "    <tr>\n",
              "      <th>setosa</th>\n",
              "      <td>5.0</td>\n",
              "      <td>0.124249</td>\n",
              "      <td>3.4</td>\n",
              "      <td>0.143690</td>\n",
              "      <td>1.50</td>\n",
              "      <td>0.030159</td>\n",
              "      <td>0.2</td>\n",
              "      <td>0.011106</td>\n",
              "    </tr>\n",
              "    <tr>\n",
              "      <th>versicolor</th>\n",
              "      <td>5.9</td>\n",
              "      <td>0.266433</td>\n",
              "      <td>2.8</td>\n",
              "      <td>0.098469</td>\n",
              "      <td>4.35</td>\n",
              "      <td>0.220816</td>\n",
              "      <td>1.3</td>\n",
              "      <td>0.039106</td>\n",
              "    </tr>\n",
              "    <tr>\n",
              "      <th>virginica</th>\n",
              "      <td>6.5</td>\n",
              "      <td>0.404343</td>\n",
              "      <td>3.0</td>\n",
              "      <td>0.104004</td>\n",
              "      <td>5.55</td>\n",
              "      <td>0.304588</td>\n",
              "      <td>2.0</td>\n",
              "      <td>0.075433</td>\n",
              "    </tr>\n",
              "  </tbody>\n",
              "</table>\n",
              "</div>"
            ],
            "text/plain": [
              "           sepal_length           sepal_width  ... petal_length petal_width          \n",
              "                 median       var      median  ...          var      median       var\n",
              "species                                        ...                                   \n",
              "setosa              5.0  0.124249         3.4  ...     0.030159         0.2  0.011106\n",
              "versicolor          5.9  0.266433         2.8  ...     0.220816         1.3  0.039106\n",
              "virginica           6.5  0.404343         3.0  ...     0.304588         2.0  0.075433\n",
              "\n",
              "[3 rows x 8 columns]"
            ]
          },
          "metadata": {
            "tags": []
          },
          "execution_count": 78
        }
      ]
    },
    {
      "cell_type": "code",
      "metadata": {
        "id": "ybsXjlvejAzJ",
        "outputId": "394af9f4-41df-4244-a981-cf8ba1b6c302",
        "colab": {
          "base_uri": "https://localhost:8080/",
          "height": 173
        }
      },
      "source": [
        "df.groupby('species').agg(lambda x: x.sum())"
      ],
      "execution_count": null,
      "outputs": [
        {
          "output_type": "execute_result",
          "data": {
            "text/html": [
              "<div>\n",
              "<style scoped>\n",
              "    .dataframe tbody tr th:only-of-type {\n",
              "        vertical-align: middle;\n",
              "    }\n",
              "\n",
              "    .dataframe tbody tr th {\n",
              "        vertical-align: top;\n",
              "    }\n",
              "\n",
              "    .dataframe thead th {\n",
              "        text-align: right;\n",
              "    }\n",
              "</style>\n",
              "<table border=\"1\" class=\"dataframe\">\n",
              "  <thead>\n",
              "    <tr style=\"text-align: right;\">\n",
              "      <th></th>\n",
              "      <th>sepal_length</th>\n",
              "      <th>sepal_width</th>\n",
              "      <th>petal_length</th>\n",
              "      <th>petal_width</th>\n",
              "    </tr>\n",
              "    <tr>\n",
              "      <th>species</th>\n",
              "      <th></th>\n",
              "      <th></th>\n",
              "      <th></th>\n",
              "      <th></th>\n",
              "    </tr>\n",
              "  </thead>\n",
              "  <tbody>\n",
              "    <tr>\n",
              "      <th>setosa</th>\n",
              "      <td>250.3</td>\n",
              "      <td>171.4</td>\n",
              "      <td>73.1</td>\n",
              "      <td>12.3</td>\n",
              "    </tr>\n",
              "    <tr>\n",
              "      <th>versicolor</th>\n",
              "      <td>296.8</td>\n",
              "      <td>138.5</td>\n",
              "      <td>213.0</td>\n",
              "      <td>66.3</td>\n",
              "    </tr>\n",
              "    <tr>\n",
              "      <th>virginica</th>\n",
              "      <td>329.4</td>\n",
              "      <td>148.7</td>\n",
              "      <td>277.6</td>\n",
              "      <td>101.3</td>\n",
              "    </tr>\n",
              "  </tbody>\n",
              "</table>\n",
              "</div>"
            ],
            "text/plain": [
              "            sepal_length  sepal_width  petal_length  petal_width\n",
              "species                                                         \n",
              "setosa             250.3        171.4          73.1         12.3\n",
              "versicolor         296.8        138.5         213.0         66.3\n",
              "virginica          329.4        148.7         277.6        101.3"
            ]
          },
          "metadata": {
            "tags": []
          },
          "execution_count": 26
        }
      ]
    },
    {
      "cell_type": "code",
      "metadata": {
        "id": "fK4sct2cjAzT",
        "outputId": "f45e61fb-6387-432f-b3b2-ea1c0d30b563",
        "colab": {
          "base_uri": "https://localhost:8080/",
          "height": 173
        }
      },
      "source": [
        "df.groupby('species').sum()"
      ],
      "execution_count": null,
      "outputs": [
        {
          "output_type": "execute_result",
          "data": {
            "text/html": [
              "<div>\n",
              "<style scoped>\n",
              "    .dataframe tbody tr th:only-of-type {\n",
              "        vertical-align: middle;\n",
              "    }\n",
              "\n",
              "    .dataframe tbody tr th {\n",
              "        vertical-align: top;\n",
              "    }\n",
              "\n",
              "    .dataframe thead th {\n",
              "        text-align: right;\n",
              "    }\n",
              "</style>\n",
              "<table border=\"1\" class=\"dataframe\">\n",
              "  <thead>\n",
              "    <tr style=\"text-align: right;\">\n",
              "      <th></th>\n",
              "      <th>sepal_length</th>\n",
              "      <th>sepal_width</th>\n",
              "      <th>petal_length</th>\n",
              "      <th>petal_width</th>\n",
              "    </tr>\n",
              "    <tr>\n",
              "      <th>species</th>\n",
              "      <th></th>\n",
              "      <th></th>\n",
              "      <th></th>\n",
              "      <th></th>\n",
              "    </tr>\n",
              "  </thead>\n",
              "  <tbody>\n",
              "    <tr>\n",
              "      <th>setosa</th>\n",
              "      <td>250.3</td>\n",
              "      <td>171.4</td>\n",
              "      <td>73.1</td>\n",
              "      <td>12.3</td>\n",
              "    </tr>\n",
              "    <tr>\n",
              "      <th>versicolor</th>\n",
              "      <td>296.8</td>\n",
              "      <td>138.5</td>\n",
              "      <td>213.0</td>\n",
              "      <td>66.3</td>\n",
              "    </tr>\n",
              "    <tr>\n",
              "      <th>virginica</th>\n",
              "      <td>329.4</td>\n",
              "      <td>148.7</td>\n",
              "      <td>277.6</td>\n",
              "      <td>101.3</td>\n",
              "    </tr>\n",
              "  </tbody>\n",
              "</table>\n",
              "</div>"
            ],
            "text/plain": [
              "            sepal_length  sepal_width  petal_length  petal_width\n",
              "species                                                         \n",
              "setosa             250.3        171.4          73.1         12.3\n",
              "versicolor         296.8        138.5         213.0         66.3\n",
              "virginica          329.4        148.7         277.6        101.3"
            ]
          },
          "metadata": {
            "tags": []
          },
          "execution_count": 27
        }
      ]
    },
    {
      "cell_type": "code",
      "metadata": {
        "id": "S5LOKm2-jAzd"
      },
      "source": [
        "#In-Class Exericse:\n",
        "#Apply these techniques to the airbnb data set that we reviewed last week!\n",
        "data_path = \"https://docs.google.com/spreadsheets/d/e/2PACX-1vRTZ0jj-ClS7G07Gux6UVBz5iKxferpaOFZuwkCGxuTzE_jS68Bygv0cRY0fh-aJFRscbz9iO1K3XQe/pub?gid=744086987&single=true&output=csv\"\n",
        "df_airbnb = pd.read_csv(data_path)"
      ],
      "execution_count": null,
      "outputs": []
    },
    {
      "cell_type": "code",
      "metadata": {
        "id": "RTQzfFoKnXNw"
      },
      "source": [
        "#In-Class Exercise 2:\n",
        "#Apply these techniques to the data set at the following address: https://github.com/fivethirtyeight/data/blob/master/airline-safety/airline-safety.csv and share something interesting with the class\n",
        "#Note: The URL above cannot be loaded directly, figure out a way to get the data set into Python / Colab"
      ],
      "execution_count": null,
      "outputs": []
    },
    {
      "cell_type": "code",
      "metadata": {
        "id": "pH1DkiUA9Ix7"
      },
      "source": [
        "import pandas_datareader as pdr\n",
        "start_date = \"1990-01-01\"\n",
        "end_date = \"2019-11-01\"\n",
        "\n",
        "spy_data_temp = pdr.DataReader('SPY', 'yahoo', start_date, end_date)"
      ],
      "execution_count": null,
      "outputs": []
    },
    {
      "cell_type": "code",
      "metadata": {
        "id": "TBE88ePD_zNY"
      },
      "source": [
        "spy_data_temp = spy_data_temp['Adj Close']\n",
        "spy_data_daily_temp = pd.DataFrame(spy_data_temp)\n",
        "spy_data_daily_temp.columns = ['SPY']"
      ],
      "execution_count": null,
      "outputs": []
    },
    {
      "cell_type": "code",
      "metadata": {
        "id": "BASJqtZh_l1Q",
        "outputId": "1b9a64c2-a0cf-4608-c612-e00b29efc2c3",
        "colab": {
          "base_uri": "https://localhost:8080/",
          "height": 102
        }
      },
      "source": [
        "spy_data_temp.head(3)"
      ],
      "execution_count": null,
      "outputs": [
        {
          "output_type": "execute_result",
          "data": {
            "text/plain": [
              "Date\n",
              "1993-01-29    26.583992\n",
              "1993-02-01    26.773048\n",
              "1993-02-02    26.829773\n",
              "Name: Adj Close, dtype: float64"
            ]
          },
          "metadata": {
            "tags": []
          },
          "execution_count": 69
        }
      ]
    },
    {
      "cell_type": "code",
      "metadata": {
        "id": "AUpWw6xl9Ipu",
        "outputId": "8091f920-eaa2-4197-bf76-701a100379a5",
        "colab": {
          "base_uri": "https://localhost:8080/",
          "height": 111
        }
      },
      "source": [
        "spy_data_daily_temp.head(1)"
      ],
      "execution_count": null,
      "outputs": [
        {
          "output_type": "execute_result",
          "data": {
            "text/html": [
              "<div>\n",
              "<style scoped>\n",
              "    .dataframe tbody tr th:only-of-type {\n",
              "        vertical-align: middle;\n",
              "    }\n",
              "\n",
              "    .dataframe tbody tr th {\n",
              "        vertical-align: top;\n",
              "    }\n",
              "\n",
              "    .dataframe thead th {\n",
              "        text-align: right;\n",
              "    }\n",
              "</style>\n",
              "<table border=\"1\" class=\"dataframe\">\n",
              "  <thead>\n",
              "    <tr style=\"text-align: right;\">\n",
              "      <th></th>\n",
              "      <th>SPY</th>\n",
              "    </tr>\n",
              "    <tr>\n",
              "      <th>Date</th>\n",
              "      <th></th>\n",
              "    </tr>\n",
              "  </thead>\n",
              "  <tbody>\n",
              "    <tr>\n",
              "      <th>1995-01-03</th>\n",
              "      <td>29.153341</td>\n",
              "    </tr>\n",
              "  </tbody>\n",
              "</table>\n",
              "</div>"
            ],
            "text/plain": [
              "                  SPY\n",
              "Date                 \n",
              "1995-01-03  29.153341"
            ]
          },
          "metadata": {
            "tags": []
          },
          "execution_count": 60
        }
      ]
    },
    {
      "cell_type": "code",
      "metadata": {
        "id": "OaXJUZ479Ytf",
        "outputId": "d5fa6dd6-34a0-4f12-daac-82fad5268caf",
        "colab": {
          "base_uri": "https://localhost:8080/",
          "height": 34
        }
      },
      "source": [
        "type(spy_data_daily_temp.index)"
      ],
      "execution_count": null,
      "outputs": [
        {
          "output_type": "execute_result",
          "data": {
            "text/plain": [
              "pandas.core.indexes.datetimes.DatetimeIndex"
            ]
          },
          "metadata": {
            "tags": []
          },
          "execution_count": 52
        }
      ]
    }
  ]
}