{
  "nbformat": 4,
  "nbformat_minor": 0,
  "metadata": {
    "colab": {
      "provenance": [],
      "include_colab_link": true
    },
    "kernelspec": {
      "name": "python3",
      "display_name": "Python 3"
    }
  },
  "cells": [
    {
      "cell_type": "markdown",
      "metadata": {
        "id": "view-in-github",
        "colab_type": "text"
      },
      "source": [
        "<a href=\"https://colab.research.google.com/github/MirzaSaniya/Accessing-Python-Library-Saniya-Mirza/blob/main/Python_Data_Analysis_Saniya_Mirza.ipynb\" target=\"_parent\"><img src=\"https://colab.research.google.com/assets/colab-badge.svg\" alt=\"Open In Colab\"/></a>"
      ]
    },
    {
      "cell_type": "code",
      "metadata": {
        "id": "lnsXgz85DGqj",
        "outputId": "d0ba29ef-04fd-48ac-b2a1-1659c4761905",
        "colab": {
          "base_uri": "https://localhost:8080/",
          "height": 34
        }
      },
      "source": [
        "#Adjust the flag below according to your usage.\n",
        "colab_flag = True\n",
        "#Adjust the path below according to where you downloaded files\n",
        "my_path = '/content/gdrive/My Drive/'  #This remains unchanged for Colab users\n",
        "my_path += 'data' #If you are using Colab, set this to the path that you unzipped your files\n",
        "\n",
        "#If you are not using colab, update the path below:\n",
        "if(colab_flag == False):\n",
        "    my_path = 'the_path_that_you_unzipped_your_files' #Make your updates here\n",
        "my_path"
      ],
      "execution_count": null,
      "outputs": [
        {
          "output_type": "execute_result",
          "data": {
            "text/plain": [
              "'/content/gdrive/My Drive/data'"
            ]
          },
          "metadata": {
            "tags": []
          },
          "execution_count": 1
        }
      ]
    },
    {
      "cell_type": "code",
      "metadata": {
        "id": "SIYUJdmrDq2b"
      },
      "source": [
        "def initialize_path(is_colab, data_path):\n",
        "  if(is_colab):\n",
        "    from google.colab import drive\n",
        "    drive.mount('/content/gdrive')\n",
        "  %cd $data_path"
      ],
      "execution_count": null,
      "outputs": []
    },
    {
      "cell_type": "code",
      "metadata": {
        "id": "Gd7bMRMPJdju",
        "outputId": "6d27835f-c2c9-4687-c35c-94a04588cae0",
        "colab": {
          "base_uri": "https://localhost:8080/",
          "height": 34
        }
      },
      "source": [
        "!ls\n"
      ],
      "execution_count": null,
      "outputs": [
        {
          "output_type": "stream",
          "text": [
            "sample_data\n"
          ],
          "name": "stdout"
        }
      ]
    },
    {
      "cell_type": "code",
      "metadata": {
        "id": "lBdl2fS2JvGJ"
      },
      "source": [],
      "execution_count": null,
      "outputs": []
    },
    {
      "cell_type": "code",
      "metadata": {
        "id": "JpNUhaG5Dfyk",
        "outputId": "c8e3801d-5f5b-4bfe-f6a3-7b4e85d8aca8",
        "colab": {
          "base_uri": "https://localhost:8080/",
          "height": 139
        }
      },
      "source": [
        "#Execute this command only if you are using Colab\n",
        "initialize_path(colab_flag, my_path)"
      ],
      "execution_count": null,
      "outputs": [
        {
          "output_type": "stream",
          "text": [
            "Go to this URL in a browser: https://accounts.google.com/o/oauth2/auth?client_id=947318989803-6bn6qk8qdgf4n4g3pfee6491hc0brc4i.apps.googleusercontent.com&redirect_uri=urn%3Aietf%3Awg%3Aoauth%3A2.0%3Aoob&scope=email%20https%3A%2F%2Fwww.googleapis.com%2Fauth%2Fdocs.test%20https%3A%2F%2Fwww.googleapis.com%2Fauth%2Fdrive%20https%3A%2F%2Fwww.googleapis.com%2Fauth%2Fdrive.photos.readonly%20https%3A%2F%2Fwww.googleapis.com%2Fauth%2Fpeopleapi.readonly&response_type=code\n",
            "\n",
            "Enter your authorization code:\n",
            "··········\n",
            "Mounted at /content/gdrive\n",
            "/content/gdrive/My Drive/data\n"
          ],
          "name": "stdout"
        }
      ]
    },
    {
      "cell_type": "code",
      "metadata": {
        "id": "9WokCjW0ITzl",
        "outputId": "c9be391a-1254-46bb-d843-827762cf51bb",
        "colab": {
          "base_uri": "https://localhost:8080/",
          "height": 34
        }
      },
      "source": [
        "%ls"
      ],
      "execution_count": null,
      "outputs": [
        {
          "output_type": "stream",
          "text": [
            "names.csv  names.txt  profession_and_age  profession_and_age.xlsx\n"
          ],
          "name": "stdout"
        }
      ]
    },
    {
      "cell_type": "code",
      "metadata": {
        "id": "yuE841DpIXkD",
        "outputId": "e5b2810f-dd50-496a-d069-82e799458d04",
        "colab": {
          "base_uri": "https://localhost:8080/",
          "height": 34
        }
      },
      "source": [
        "!pwd"
      ],
      "execution_count": null,
      "outputs": [
        {
          "output_type": "stream",
          "text": [
            "/content/gdrive/My Drive/data\n"
          ],
          "name": "stdout"
        }
      ]
    },
    {
      "cell_type": "code",
      "metadata": {
        "id": "7NIFvWGCK9Ms"
      },
      "source": [
        "import numpy as np\n",
        "import pandas as pd\n",
        "import os\n",
        "from matplotlib import pyplot as plt\n",
        "from matplotlib.ticker import PercentFormatter\n",
        "from pylab import rcParams\n",
        "import sqlite3\n",
        "from sqlite3 import Error\n",
        "from sqlalchemy import create_engine"
      ],
      "execution_count": null,
      "outputs": []
    },
    {
      "cell_type": "code",
      "metadata": {
        "id": "4TWg8YLULxAz",
        "outputId": "d9ca0e25-c266-49e4-9a70-256d11243de8",
        "colab": {
          "base_uri": "https://localhost:8080/",
          "height": 170
        }
      },
      "source": [
        "df_names_txt = pd.read_csv(\n",
        "    'names.txt',  # path/url to the file\n",
        "    sep='\\t',      # specify separator between columns\n",
        "    header=0)     # row containing column names\n",
        "df_names_txt"
      ],
      "execution_count": null,
      "outputs": [
        {
          "output_type": "execute_result",
          "data": {
            "text/html": [
              "<div>\n",
              "<style scoped>\n",
              "    .dataframe tbody tr th:only-of-type {\n",
              "        vertical-align: middle;\n",
              "    }\n",
              "\n",
              "    .dataframe tbody tr th {\n",
              "        vertical-align: top;\n",
              "    }\n",
              "\n",
              "    .dataframe thead th {\n",
              "        text-align: right;\n",
              "    }\n",
              "</style>\n",
              "<table border=\"1\" class=\"dataframe\">\n",
              "  <thead>\n",
              "    <tr style=\"text-align: right;\">\n",
              "      <th></th>\n",
              "      <th>First Name</th>\n",
              "      <th>Last Name</th>\n",
              "      <th>Profession</th>\n",
              "    </tr>\n",
              "  </thead>\n",
              "  <tbody>\n",
              "    <tr>\n",
              "      <th>0</th>\n",
              "      <td>Fidel</td>\n",
              "      <td>Rodriguez</td>\n",
              "      <td>Comedian</td>\n",
              "    </tr>\n",
              "    <tr>\n",
              "      <th>1</th>\n",
              "      <td>Bill</td>\n",
              "      <td>Gates</td>\n",
              "      <td>Philanthropist</td>\n",
              "    </tr>\n",
              "    <tr>\n",
              "      <th>2</th>\n",
              "      <td>Tom</td>\n",
              "      <td>Brady</td>\n",
              "      <td>Athlete</td>\n",
              "    </tr>\n",
              "    <tr>\n",
              "      <th>3</th>\n",
              "      <td>Bill</td>\n",
              "      <td>Nye</td>\n",
              "      <td>Presenter</td>\n",
              "    </tr>\n",
              "  </tbody>\n",
              "</table>\n",
              "</div>"
            ],
            "text/plain": [
              "  First Name  Last Name      Profession\n",
              "0      Fidel  Rodriguez        Comedian\n",
              "1       Bill      Gates  Philanthropist\n",
              "2        Tom      Brady         Athlete\n",
              "3       Bill        Nye       Presenter"
            ]
          },
          "metadata": {
            "tags": []
          },
          "execution_count": 8
        }
      ]
    },
    {
      "cell_type": "code",
      "metadata": {
        "id": "Wad-u7u9LxNE"
      },
      "source": [],
      "execution_count": null,
      "outputs": []
    },
    {
      "cell_type": "code",
      "metadata": {
        "id": "QHT3_tkyLxcH"
      },
      "source": [],
      "execution_count": null,
      "outputs": []
    },
    {
      "cell_type": "code",
      "metadata": {
        "id": "W2kx0waJJw0M",
        "outputId": "df859360-8862-4554-99b4-b2b9937a582c",
        "colab": {
          "base_uri": "https://localhost:8080/",
          "height": 233
        }
      },
      "source": [
        "df_names_csv = pd.read_csv(\n",
        "    'names.csv',  # path/url to the file\n",
        "    sep=',',      # specify separator between columns\n",
        "    header=0)     # row containing column names\n",
        "df_names_csv"
      ],
      "execution_count": null,
      "outputs": [
        {
          "output_type": "error",
          "ename": "NameError",
          "evalue": "ignored",
          "traceback": [
            "\u001b[0;31m---------------------------------------------------------------------------\u001b[0m",
            "\u001b[0;31mNameError\u001b[0m                                 Traceback (most recent call last)",
            "\u001b[0;32m<ipython-input-1-5b16f9fedbdc>\u001b[0m in \u001b[0;36m<module>\u001b[0;34m()\u001b[0m\n\u001b[0;32m----> 1\u001b[0;31m df_names_csv = pd.read_csv(\n\u001b[0m\u001b[1;32m      2\u001b[0m     \u001b[0;34m'names.csv'\u001b[0m\u001b[0;34m,\u001b[0m  \u001b[0;31m# path/url to the file\u001b[0m\u001b[0;34m\u001b[0m\u001b[0;34m\u001b[0m\u001b[0m\n\u001b[1;32m      3\u001b[0m     \u001b[0msep\u001b[0m\u001b[0;34m=\u001b[0m\u001b[0;34m','\u001b[0m\u001b[0;34m,\u001b[0m      \u001b[0;31m# specify separator between columns\u001b[0m\u001b[0;34m\u001b[0m\u001b[0;34m\u001b[0m\u001b[0m\n\u001b[1;32m      4\u001b[0m     header=0)     # row containing column names \n\u001b[1;32m      5\u001b[0m \u001b[0mdf_names_csv\u001b[0m\u001b[0;34m\u001b[0m\u001b[0;34m\u001b[0m\u001b[0m\n",
            "\u001b[0;31mNameError\u001b[0m: name 'pd' is not defined"
          ]
        }
      ]
    },
    {
      "cell_type": "code",
      "metadata": {
        "id": "m0tRgTCqK7-5"
      },
      "source": [],
      "execution_count": null,
      "outputs": []
    },
    {
      "cell_type": "code",
      "metadata": {
        "id": "z2HpJyEkKX_D",
        "outputId": "27bffd32-6a53-4644-cbac-8814a90a5eca",
        "colab": {
          "base_uri": "https://localhost:8080/",
          "height": 170
        }
      },
      "source": [
        "df_profession_and_age_age = pd.read_excel('profession_and_age.xlsx', sheet_name = 'Age')\n",
        "df_profession_and_age_age"
      ],
      "execution_count": null,
      "outputs": [
        {
          "output_type": "execute_result",
          "data": {
            "text/html": [
              "<div>\n",
              "<style scoped>\n",
              "    .dataframe tbody tr th:only-of-type {\n",
              "        vertical-align: middle;\n",
              "    }\n",
              "\n",
              "    .dataframe tbody tr th {\n",
              "        vertical-align: top;\n",
              "    }\n",
              "\n",
              "    .dataframe thead th {\n",
              "        text-align: right;\n",
              "    }\n",
              "</style>\n",
              "<table border=\"1\" class=\"dataframe\">\n",
              "  <thead>\n",
              "    <tr style=\"text-align: right;\">\n",
              "      <th></th>\n",
              "      <th>First Name</th>\n",
              "      <th>Last Name</th>\n",
              "      <th>Age</th>\n",
              "    </tr>\n",
              "  </thead>\n",
              "  <tbody>\n",
              "    <tr>\n",
              "      <th>0</th>\n",
              "      <td>Tom</td>\n",
              "      <td>Brady</td>\n",
              "      <td>10</td>\n",
              "    </tr>\n",
              "    <tr>\n",
              "      <th>1</th>\n",
              "      <td>Bill</td>\n",
              "      <td>Nye</td>\n",
              "      <td>20</td>\n",
              "    </tr>\n",
              "    <tr>\n",
              "      <th>2</th>\n",
              "      <td>Bill</td>\n",
              "      <td>Gates</td>\n",
              "      <td>30</td>\n",
              "    </tr>\n",
              "    <tr>\n",
              "      <th>3</th>\n",
              "      <td>Godzilla</td>\n",
              "      <td>III</td>\n",
              "      <td>1000</td>\n",
              "    </tr>\n",
              "  </tbody>\n",
              "</table>\n",
              "</div>"
            ],
            "text/plain": [
              "  First Name Last Name   Age\n",
              "0        Tom     Brady    10\n",
              "1       Bill       Nye    20\n",
              "2       Bill     Gates    30\n",
              "3   Godzilla       III  1000"
            ]
          },
          "metadata": {
            "tags": []
          },
          "execution_count": 29
        }
      ]
    },
    {
      "cell_type": "code",
      "metadata": {
        "id": "9K1t96jMLHGG",
        "outputId": "45b89097-3fc4-4c02-d12f-e1323e7ef701",
        "colab": {
          "base_uri": "https://localhost:8080/",
          "height": 200
        }
      },
      "source": [
        "df_names_txt.merge(df_profession_and_age_age, on=['First Name', 'Last Name'], how = 'outer')"
      ],
      "execution_count": null,
      "outputs": [
        {
          "output_type": "execute_result",
          "data": {
            "text/html": [
              "<div>\n",
              "<style scoped>\n",
              "    .dataframe tbody tr th:only-of-type {\n",
              "        vertical-align: middle;\n",
              "    }\n",
              "\n",
              "    .dataframe tbody tr th {\n",
              "        vertical-align: top;\n",
              "    }\n",
              "\n",
              "    .dataframe thead th {\n",
              "        text-align: right;\n",
              "    }\n",
              "</style>\n",
              "<table border=\"1\" class=\"dataframe\">\n",
              "  <thead>\n",
              "    <tr style=\"text-align: right;\">\n",
              "      <th></th>\n",
              "      <th>First Name</th>\n",
              "      <th>Last Name</th>\n",
              "      <th>Profession</th>\n",
              "      <th>Age</th>\n",
              "    </tr>\n",
              "  </thead>\n",
              "  <tbody>\n",
              "    <tr>\n",
              "      <th>0</th>\n",
              "      <td>Fidel</td>\n",
              "      <td>Rodriguez</td>\n",
              "      <td>Comedian</td>\n",
              "      <td>NaN</td>\n",
              "    </tr>\n",
              "    <tr>\n",
              "      <th>1</th>\n",
              "      <td>Bill</td>\n",
              "      <td>Gates</td>\n",
              "      <td>Philanthropist</td>\n",
              "      <td>30.0</td>\n",
              "    </tr>\n",
              "    <tr>\n",
              "      <th>2</th>\n",
              "      <td>Tom</td>\n",
              "      <td>Brady</td>\n",
              "      <td>Athlete</td>\n",
              "      <td>10.0</td>\n",
              "    </tr>\n",
              "    <tr>\n",
              "      <th>3</th>\n",
              "      <td>Bill</td>\n",
              "      <td>Nye</td>\n",
              "      <td>Presenter</td>\n",
              "      <td>20.0</td>\n",
              "    </tr>\n",
              "    <tr>\n",
              "      <th>4</th>\n",
              "      <td>Godzilla</td>\n",
              "      <td>III</td>\n",
              "      <td>NaN</td>\n",
              "      <td>1000.0</td>\n",
              "    </tr>\n",
              "  </tbody>\n",
              "</table>\n",
              "</div>"
            ],
            "text/plain": [
              "  First Name  Last Name      Profession     Age\n",
              "0      Fidel  Rodriguez        Comedian     NaN\n",
              "1       Bill      Gates  Philanthropist    30.0\n",
              "2        Tom      Brady         Athlete    10.0\n",
              "3       Bill        Nye       Presenter    20.0\n",
              "4   Godzilla        III             NaN  1000.0"
            ]
          },
          "metadata": {
            "tags": []
          },
          "execution_count": 32
        }
      ]
    },
    {
      "cell_type": "code",
      "metadata": {
        "id": "JhQbKiLeMR-3"
      },
      "source": [
        "data_path = \"https://docs.google.com/spreadsheets/d/e/2PACX-1vRTZ0jj-ClS7G07Gux6UVBz5iKxferpaOFZuwkCGxuTzE_jS68Bygv0cRY0fh-aJFRscbz9iO1K3XQe/pub?gid=744086987&single=true&output=csv\"\n",
        "df_airbnb = pd.read_csv(data_path)"
      ],
      "execution_count": null,
      "outputs": []
    },
    {
      "cell_type": "code",
      "metadata": {
        "id": "kcFta3tHNoKd"
      },
      "source": [],
      "execution_count": null,
      "outputs": []
    },
    {
      "cell_type": "markdown",
      "metadata": {
        "id": "3vzuOHnMwfhx"
      },
      "source": [
        "### Accessing  databases\n",
        "* For this exercise, we will try to access a local SQL database using sqlite.\n",
        "* Procedure to access remote database are similar.\n",
        "* The local database was created in SQLite using the following code:\n",
        "```sql\n",
        "CREATE TABLE profession(\n",
        "  first_name VARCHAR,\n",
        "  last_name VARCHAR,\n",
        "  profession VARCHAR\n",
        ");\n",
        "CREATE TABLE age(\n",
        "  first_name VARCHAR,\n",
        "  last_name VARCHAR,\n",
        "  age INT\n",
        ");\n",
        "INSERT INTO profession VALUES\n",
        "  (\"Fidel\", \"Rodriguez\", \"Comedian\"),\n",
        "  (\"Tom\", \"Brady\", \"Athlete\"),\n",
        "  (\"Bill\", \"Nye\", \"TV Personality\"),\n",
        "  (\"Bill\", \"Gates\", \"Philanthropist\");\n",
        "INSERT INTO age VALUES\n",
        "  (\"Tom\", \"Brady\", 10),\n",
        "  (\"Bill\", \"Nye\", 20),\n",
        "  (\"Bill\", \"Gates\", 30),\n",
        "  (\"Godzilla\", \"III\", 1000);\n",
        "```"
      ]
    },
    {
      "cell_type": "code",
      "metadata": {
        "id": "hwW4RUQeNsE9"
      },
      "source": [
        "#This won't work unless the path that you have is setup properly (try !pwd to check)\n",
        "conn = sqlite3.connect(\"profession_and_age\")"
      ],
      "execution_count": null,
      "outputs": []
    },
    {
      "cell_type": "code",
      "metadata": {
        "id": "kq3NYfdlNv9C",
        "outputId": "dc4bd8b4-0f8e-49e4-d3ea-466f86250985",
        "colab": {
          "base_uri": "https://localhost:8080/",
          "height": 119
        }
      },
      "source": [
        "#This won't work unless the path that you have is setup properly (try !pwd to check)\n",
        "cur = conn.cursor()\n",
        "cur.execute(\"SELECT name FROM sqlite_master WHERE type='table' ORDER BY name;\")\n",
        "conn.commit()\n",
        "records = cur.fetchall()\n",
        "for row in records:\n",
        "    print(\"col1 \", row[0])\n",
        "    print(\"\\n\")\n",
        "cur.close()"
      ],
      "execution_count": null,
      "outputs": [
        {
          "output_type": "stream",
          "text": [
            "col1  age\n",
            "\n",
            "\n",
            "col1  profession\n",
            "\n",
            "\n"
          ],
          "name": "stdout"
        }
      ]
    },
    {
      "cell_type": "code",
      "metadata": {
        "id": "JbnbT1xtN1Sr"
      },
      "source": [
        "\n"
      ],
      "execution_count": null,
      "outputs": []
    },
    {
      "cell_type": "code",
      "metadata": {
        "id": "yD3iKEhT7tuw",
        "outputId": "a94d6f9a-96ad-4853-ab9f-80df3f165ba2",
        "colab": {
          "base_uri": "https://localhost:8080/",
          "height": 170
        }
      },
      "source": [
        "#This won't work unless the path that you have is setup properly (try !pwd to check)\n",
        "engine = create_engine(\"sqlite:///profession_and_age\")\n",
        "pd.read_sql_table('age', engine)"
      ],
      "execution_count": null,
      "outputs": [
        {
          "output_type": "execute_result",
          "data": {
            "text/html": [
              "<div>\n",
              "<style scoped>\n",
              "    .dataframe tbody tr th:only-of-type {\n",
              "        vertical-align: middle;\n",
              "    }\n",
              "\n",
              "    .dataframe tbody tr th {\n",
              "        vertical-align: top;\n",
              "    }\n",
              "\n",
              "    .dataframe thead th {\n",
              "        text-align: right;\n",
              "    }\n",
              "</style>\n",
              "<table border=\"1\" class=\"dataframe\">\n",
              "  <thead>\n",
              "    <tr style=\"text-align: right;\">\n",
              "      <th></th>\n",
              "      <th>first_name</th>\n",
              "      <th>last_name</th>\n",
              "      <th>age</th>\n",
              "    </tr>\n",
              "  </thead>\n",
              "  <tbody>\n",
              "    <tr>\n",
              "      <th>0</th>\n",
              "      <td>Sharat</td>\n",
              "      <td>Chikkerur</td>\n",
              "      <td>38</td>\n",
              "    </tr>\n",
              "    <tr>\n",
              "      <th>1</th>\n",
              "      <td>Tom</td>\n",
              "      <td>Brady</td>\n",
              "      <td>40</td>\n",
              "    </tr>\n",
              "    <tr>\n",
              "      <th>2</th>\n",
              "      <td>Bill</td>\n",
              "      <td>Nye</td>\n",
              "      <td>62</td>\n",
              "    </tr>\n",
              "    <tr>\n",
              "      <th>3</th>\n",
              "      <td>Barack</td>\n",
              "      <td>Obama</td>\n",
              "      <td>56</td>\n",
              "    </tr>\n",
              "  </tbody>\n",
              "</table>\n",
              "</div>"
            ],
            "text/plain": [
              "  first_name  last_name  age\n",
              "0     Sharat  Chikkerur   38\n",
              "1        Tom      Brady   40\n",
              "2       Bill        Nye   62\n",
              "3     Barack      Obama   56"
            ]
          },
          "metadata": {
            "tags": []
          },
          "execution_count": 36
        }
      ]
    },
    {
      "cell_type": "markdown",
      "metadata": {
        "id": "O-g2AVA8QB8b"
      },
      "source": [
        "\n",
        "Part 1 - An economist asserts that [logged] Truck Tonnage correlates well with the S&P 500.\n",
        "Retrieve the data for each series\n",
        "Apply a log transform to the data (where appropriate).\n",
        "Plot the data and identify any relationships positive neg\n",
        "Shade areas that contain recessions good graph\n",
        "Explain how the information may or may not be used crti thinking analyse if one goes down what for others\n",
        "\n",
        "Part 2 - An economist asserts that stock market direction is largely based on whether sp500 ndex is above/below the 200 Day Simple Moving Average (SMA).\n",
        "Retrieve the data for the S&P 500\n",
        "Create simple moving average columns for not only the 200 day SMA, but also for other popular SMAs (e.g., 20, 50, and 100) matrix do by 20 50 and 100\n",
        "Plot the data and identify any relationships pos neg\n",
        "Shade areas that contain recessions  fun to shade rece shader\n",
        "Explain how the information may or may not be used\n",
        "monte carlo simulat\n",
        "short term rates cost more than long term\n",
        "murder death divorce\n",
        "inv yield curve\n",
        "Part 3 - Come up with your own assertion and test it (you can use the data above or other interesting things, such as GDP, the 10-Year Treasury Constant Maturity Minus 2-Year Treasury Constant Maturity, the Cyclically Adjusted PE)\n",
        "Document your hypothesis or idea\n",
        "Retrieve the data\n",
        "Highlight interesting areas\n",
        "Explain how the information may or may not be used\n",
        "\n",
        "Hint: Pandas, quandl, pandas-datareader, matplotlib, and numpy are excellent packages for this type of work.\n"
      ]
    }
  ]
}