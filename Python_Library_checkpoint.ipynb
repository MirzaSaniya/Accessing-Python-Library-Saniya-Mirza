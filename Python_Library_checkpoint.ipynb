{
  "nbformat": 4,
  "nbformat_minor": 0,
  "metadata": {
    "kernelspec": {
      "display_name": "Python 3",
      "language": "python",
      "name": "python3"
    },
    "language_info": {
      "codemirror_mode": {
        "name": "ipython",
        "version": 3
      },
      "file_extension": ".py",
      "mimetype": "text/x-python",
      "name": "python",
      "nbconvert_exporter": "python",
      "pygments_lexer": "ipython3",
      "version": "3.7.0"
    },
    "colab": {
      "provenance": [],
      "include_colab_link": true
    }
  },
  "cells": [
    {
      "cell_type": "markdown",
      "metadata": {
        "id": "view-in-github",
        "colab_type": "text"
      },
      "source": [
        "<a href=\"https://colab.research.google.com/github/MirzaSaniya/Accessing-Python-Library-Saniya-Mirza/blob/main/Python_Library_checkpoint.ipynb\" target=\"_parent\"><img src=\"https://colab.research.google.com/assets/colab-badge.svg\" alt=\"Open In Colab\"/></a>"
      ]
    },
    {
      "cell_type": "code",
      "metadata": {
        "id": "UDqRlBiYSU-Z"
      },
      "source": [
        "#Import necessary libraries\n",
        "import pandas as pd\n",
        "import numpy as np"
      ],
      "execution_count": null,
      "outputs": []
    },
    {
      "cell_type": "code",
      "metadata": {
        "id": "XsNGl1plSU-b"
      },
      "source": [
        "# Provided below are functions that are completely defined (add_numbers),\n",
        "# partially defined (sub_numbers) and not defined (mult_numbers)\n",
        "# (a) Complete sub_numbers so that it return difference of two numbers\n",
        "# (b) Write a function called mult_numbers to multiply two numbers\n",
        "\n",
        "def add_numbers(a, b):\n",
        "    result = a + b\n",
        "    return result\n",
        "\n",
        "def sub_numbers(a, b):\n",
        "    # Write code to return sum of a and b\n",
        "    result =  a - b #Replace None with your code\n",
        "    return result\n",
        "\n",
        "def mult_numbers(a, b):\n",
        "    result = a * b\n",
        "    return result\n",
        "\n",
        "#Uncomment the following when you have done the exercise\n",
        "#a^2-b^2 = (a+b)*(a-b)\n",
        "#e.g 5^2 - 4^2 = (5+4)(5-4) = 9\n",
        "print(mult_numbers(add_numbers(5,4), sub_numbers(5,4)))\n",
        "# Should print 9"
      ],
      "execution_count": null,
      "outputs": []
    },
    {
      "cell_type": "code",
      "metadata": {
        "id": "pC_ZZMsuSU-d",
        "outputId": "d6da9b10-9ecd-4300-bc25-4c378f81c5b4"
      },
      "source": [
        "\n",
        "# Write a function that takes a name and returns\n",
        "# \"Your name is <given_name>\"\n",
        "# Example:\n",
        "# print_name(\"Sharat\") should return \"Your name is Sharat\"\n",
        "# Hint: You string formatting functionality. https://pyformat.info/\n",
        "def print_name(name):\n",
        "    formatted_result = \"My name is \" + name # Replace with format string\n",
        "    return formatted_result\n",
        "\n",
        "print_name(\"Sharat\")"
      ],
      "execution_count": null,
      "outputs": [
        {
          "output_type": "execute_result",
          "data": {
            "text/plain": [
              "'My name is Sharat'"
            ]
          },
          "metadata": {
            "tags": []
          },
          "execution_count": 17
        }
      ]
    },
    {
      "cell_type": "code",
      "metadata": {
        "id": "DEhsDYBFSU-f",
        "outputId": "d4fd9b31-0425-4643-8d4a-a8c072ad4998"
      },
      "source": [
        "#\n",
        "# (a) Using a for loop, iterate through the list x\n",
        "# and print an item if its divisible by 2 and less than 6\n",
        "# (b) Using a for loop, iterate through the dictionary y\n",
        "# and print a single string of the form \"company, ceo\"\n",
        "# e.g. \"CEO: Apple, Name: Tim Cook\" will be the third entry\n",
        "x = [1, 2, 3, 4, 5, 6, 7, 8, 9, 10]\n",
        "y = {\n",
        "    'Satya Nadella': 'Microsoft',\n",
        "    'Jeff Bezos': 'Amazon',\n",
        "    'Tim Cook': 'Apple'\n",
        "}\n",
        "\n",
        "for i in x:\n",
        "    if i % 2 == 0 and i < 6:\n",
        "        print(i)\n",
        "\n",
        "for i, j in y.items():\n",
        "    print(\"CEO: \" + j + \", Name: \" +i)"
      ],
      "execution_count": null,
      "outputs": [
        {
          "output_type": "stream",
          "text": [
            "2\n",
            "4\n",
            "CEO: Microsoft, Name: Satya Nadella\n",
            "CEO: Amazon, Name: Jeff Bezos\n",
            "CEO: Apple, Name: Tim Cook\n"
          ],
          "name": "stdout"
        }
      ]
    }
  ]
}